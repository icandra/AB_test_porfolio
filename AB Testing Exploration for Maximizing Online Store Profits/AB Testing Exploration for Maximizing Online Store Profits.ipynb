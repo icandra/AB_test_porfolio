{
 "cells": [
  {
   "cell_type": "markdown",
   "id": "bb0909e8-1e32-4473-8891-f8e1cabb93d4",
   "metadata": {},
   "source": [
    "# Maximizing Online Store Profits: A Data-driven A/B Testing Exploration"
   ]
  },
  {
   "cell_type": "markdown",
   "id": "3ce365f1-134f-42f8-81b6-325eb9a675b0",
   "metadata": {},
   "source": [
    "**Analyst : Ica Candra Rambadiana**<br>\n",
    "*March 2023*<br>\n",
    "<br>\n",
    "**Reviewed by Warrie Warrie**<br>\n",
    "*DSNai - Data Science Nigeria | Machine Learning Engineer | GIS Data Specialist*<br>"
   ]
  },
  {
   "cell_type": "markdown",
   "id": "1c8f88af-379f-4fe3-b460-c5641eed635e",
   "metadata": {},
   "source": [
    "<div class=\"alert alert-block alert-success\">\n",
    "<b>OVERALL REVIEWER'S COMMENT V1</b> <a class=\"tocSkip\"></a>\n",
    "\n",
    "Congratulation Ica on completing your project!!👏 <br>\n",
    "    \n",
    "Your work has been brilliant and well detailed so far. You have shown great experience in analytics with efficient use of advanced pandas function. <br> I like the fact that you wer well specific and detailed with your summaries and conclusion<br> Keep it up 👏 <br>  For improvment, i have added comment in yellow that you can check out to make your future project better. <br>\n",
    "    \n",
    "\n",
    "Thank you and Good luck on your future projects 🥳"
   ]
  },
  {
   "cell_type": "markdown",
   "id": "8ad7a103-25fd-4c5e-9c5e-4b9e75ca7308",
   "metadata": {},
   "source": [
    " "
   ]
  },
  {
   "cell_type": "markdown",
   "id": "acbcac2b-1095-4dbc-94a0-6c12681aa87d",
   "metadata": {},
   "source": [
    " "
   ]
  },
  {
   "cell_type": "markdown",
   "id": "261c8fab-c6df-4dc0-a491-12ce7f9fb509",
   "metadata": {},
   "source": [
    " "
   ]
  },
  {
   "cell_type": "markdown",
   "id": "638618b6-2e52-4a96-8686-990695c69e30",
   "metadata": {},
   "source": [
    " "
   ]
  },
  {
   "cell_type": "markdown",
   "id": "9f56966b-1270-4925-a6ab-3934782d37b2",
   "metadata": {},
   "source": [
    " "
   ]
  },
  {
   "cell_type": "markdown",
   "id": "ad3aff2c-28d9-4dcd-a7eb-d4b7ee620c71",
   "metadata": {},
   "source": [
    " "
   ]
  },
  {
   "cell_type": "markdown",
   "id": "62e348c1-9d5d-44e2-b4cf-2a57b1fb8422",
   "metadata": {},
   "source": [
    "This project will conduct a list of hypotheses testing that may help **boost\n",
    "revenue** in a big online store, together with the marketing\n",
    "department.\n",
    "\n",
    "### Objective\n",
    "The analysis objective is:\n",
    "- Assess and choose hypotheses that need to be prioritized\n",
    "- Analyze and interpret the A/B testing results\n",
    "- Decide whether we need to continue or stop the test\n",
    "\n",
    "### STAGES\n",
    "This analysis will be divided into three main sections.\n",
    " 1. Get Started\n",
    " 2. Priotizing Hypotheses\n",
    " 3. A/B Testing Analysis<br>\n",
    "    3.1. Data Preprocessing <br>\n",
    "    3.2. EDA\n",
    "            \n",
    "            3.2.1. Cumulative Revenue\n",
    "            3.2.2. Cumulative Average Order Size\n",
    "            3.2.3. Conversion Rate\n",
    "            3.2.4. Number of Orders per User\n",
    "            3.2.5. Order Prices\n",
    "            \n",
    "    3.3. Hypothesis Testing<br>"
   ]
  },
  {
   "cell_type": "markdown",
   "id": "66dd3ba8-74a5-46b9-b055-4d28f0e48b8c",
   "metadata": {},
   "source": [
    " "
   ]
  },
  {
   "cell_type": "markdown",
   "id": "1871bfed-4d58-4674-a4fa-ad64019f3802",
   "metadata": {},
   "source": [
    " "
   ]
  },
  {
   "cell_type": "markdown",
   "id": "e50dac9b-85fc-4cbc-88a8-6abfb9eef494",
   "metadata": {},
   "source": [
    " "
   ]
  },
  {
   "cell_type": "markdown",
   "id": "f59f7634-f966-4346-9a85-e0e3a032852d",
   "metadata": {},
   "source": [
    "## GET STARTED"
   ]
  },
  {
   "cell_type": "code",
   "execution_count": 1,
   "id": "f2cefcf2-0e1b-4b90-83b5-7f23d11c103b",
   "metadata": {},
   "outputs": [],
   "source": [
    "#import libraries\n",
    "import pandas as pd\n",
    "import numpy as np\n",
    "\n",
    "import matplotlib.pyplot as plt\n",
    "import seaborn as sns\n",
    "sns.set(font_scale=1.3, style='white')\n",
    "\n",
    "import math as mth\n",
    "import scipy.stats as st\n",
    "\n",
    "import warnings\n",
    "warnings.filterwarnings('ignore')"
   ]
  },
  {
   "cell_type": "markdown",
   "id": "dde7d6ac-7374-418a-9321-a7bbf21bddb2",
   "metadata": {},
   "source": [
    " "
   ]
  },
  {
   "cell_type": "markdown",
   "id": "2ba1778f-eeaa-4b18-9749-eb9299c882c6",
   "metadata": {},
   "source": [
    " "
   ]
  },
  {
   "cell_type": "markdown",
   "id": "0c2f2024-9be2-4ea6-9cec-67539f792c3c",
   "metadata": {},
   "source": [
    "## PRIOTIZING HYPOTHESES"
   ]
  },
  {
   "cell_type": "markdown",
   "id": "d55a05a0-9f9a-4f19-b0fa-95c123671e71",
   "metadata": {},
   "source": [
    "### Hypotheses"
   ]
  },
  {
   "cell_type": "markdown",
   "id": "98f77981-2e71-4b22-aacd-9d81b66312dd",
   "metadata": {},
   "source": [
    "This section will use RICE and ICE, two commonly used frameworks for prioritizing hypotheses in the context of experimentation and A/B testing."
   ]
  },
  {
   "cell_type": "markdown",
   "id": "89592161-8d46-47e2-b21d-24953841301b",
   "metadata": {},
   "source": [
    "**Description**<br>\n",
    "- `Hypotheses` — brief descriptions of the hypotheses\n",
    "- `Reach` — user reach, on a scale of one to ten\n",
    "- `Impact` — impact on users, on a scale of one to ten\n",
    "- `Confidence` — confidence in the hypothesis, on a scale of one to ten\n",
    "- `Effort` — the resources required to test a hypothesis on a scale of one to ten. The higher the Effort value, the more resource-intensive the test."
   ]
  },
  {
   "cell_type": "code",
   "execution_count": 2,
   "id": "b37a79f5-2d88-43d6-947b-ef35e23de8d8",
   "metadata": {},
   "outputs": [],
   "source": [
    "# load datasets\n",
    "try:\n",
    "    hypotheses = pd.read_csv('hypotheses_us.csv', sep=';')\n",
    "except:\n",
    "    hypotheses = pd.read_csv('/datasets/hypotheses_us.csv', sep=';')"
   ]
  },
  {
   "cell_type": "code",
   "execution_count": 3,
   "id": "98768106-cf41-40b7-b36e-06e91ee4e950",
   "metadata": {},
   "outputs": [
    {
     "name": "stdout",
     "output_type": "stream",
     "text": [
      "<class 'pandas.core.frame.DataFrame'>\n",
      "RangeIndex: 9 entries, 0 to 8\n",
      "Data columns (total 5 columns):\n",
      " #   Column      Non-Null Count  Dtype \n",
      "---  ------      --------------  ----- \n",
      " 0   Hypothesis  9 non-null      object\n",
      " 1   Reach       9 non-null      int64 \n",
      " 2   Impact      9 non-null      int64 \n",
      " 3   Confidence  9 non-null      int64 \n",
      " 4   Effort      9 non-null      int64 \n",
      "dtypes: int64(4), object(1)\n",
      "memory usage: 488.0+ bytes\n"
     ]
    }
   ],
   "source": [
    "# check datasets\n",
    "hypotheses.info()"
   ]
  },
  {
   "cell_type": "code",
   "execution_count": 4,
   "id": "a13c41ac-c5df-46cd-bfed-3ca7830abb0a",
   "metadata": {},
   "outputs": [
    {
     "data": {
      "text/html": [
       "<div>\n",
       "<style scoped>\n",
       "    .dataframe tbody tr th:only-of-type {\n",
       "        vertical-align: middle;\n",
       "    }\n",
       "\n",
       "    .dataframe tbody tr th {\n",
       "        vertical-align: top;\n",
       "    }\n",
       "\n",
       "    .dataframe thead th {\n",
       "        text-align: right;\n",
       "    }\n",
       "</style>\n",
       "<table border=\"1\" class=\"dataframe\">\n",
       "  <thead>\n",
       "    <tr style=\"text-align: right;\">\n",
       "      <th></th>\n",
       "      <th>hypothesis</th>\n",
       "      <th>reach</th>\n",
       "      <th>impact</th>\n",
       "      <th>confidence</th>\n",
       "      <th>effort</th>\n",
       "    </tr>\n",
       "  </thead>\n",
       "  <tbody>\n",
       "    <tr>\n",
       "      <th>0</th>\n",
       "      <td>Add two new channels for attracting traffic. This will bring 30% more users</td>\n",
       "      <td>3</td>\n",
       "      <td>10</td>\n",
       "      <td>8</td>\n",
       "      <td>6</td>\n",
       "    </tr>\n",
       "    <tr>\n",
       "      <th>1</th>\n",
       "      <td>Launch your own delivery service. This will shorten delivery time</td>\n",
       "      <td>2</td>\n",
       "      <td>5</td>\n",
       "      <td>4</td>\n",
       "      <td>10</td>\n",
       "    </tr>\n",
       "    <tr>\n",
       "      <th>2</th>\n",
       "      <td>Add product recommendation blocks to the store's site. This will increase conversion and average purchase size</td>\n",
       "      <td>8</td>\n",
       "      <td>3</td>\n",
       "      <td>7</td>\n",
       "      <td>3</td>\n",
       "    </tr>\n",
       "    <tr>\n",
       "      <th>3</th>\n",
       "      <td>Change the category structure. This will increase conversion since users will find the products they want more quickly</td>\n",
       "      <td>8</td>\n",
       "      <td>3</td>\n",
       "      <td>3</td>\n",
       "      <td>8</td>\n",
       "    </tr>\n",
       "    <tr>\n",
       "      <th>4</th>\n",
       "      <td>Change the background color on the main page. This will increase user engagement</td>\n",
       "      <td>3</td>\n",
       "      <td>1</td>\n",
       "      <td>1</td>\n",
       "      <td>1</td>\n",
       "    </tr>\n",
       "    <tr>\n",
       "      <th>5</th>\n",
       "      <td>Add a customer review page. This will increase the number of orders</td>\n",
       "      <td>3</td>\n",
       "      <td>2</td>\n",
       "      <td>2</td>\n",
       "      <td>3</td>\n",
       "    </tr>\n",
       "    <tr>\n",
       "      <th>6</th>\n",
       "      <td>Show banners with current offers and sales on the main page. This will boost conversion</td>\n",
       "      <td>5</td>\n",
       "      <td>3</td>\n",
       "      <td>8</td>\n",
       "      <td>3</td>\n",
       "    </tr>\n",
       "    <tr>\n",
       "      <th>7</th>\n",
       "      <td>Add a subscription form to all the main pages. This will help you compile a mailing list</td>\n",
       "      <td>10</td>\n",
       "      <td>7</td>\n",
       "      <td>8</td>\n",
       "      <td>5</td>\n",
       "    </tr>\n",
       "    <tr>\n",
       "      <th>8</th>\n",
       "      <td>Launch a promotion that gives users discounts on their birthdays</td>\n",
       "      <td>1</td>\n",
       "      <td>9</td>\n",
       "      <td>9</td>\n",
       "      <td>5</td>\n",
       "    </tr>\n",
       "  </tbody>\n",
       "</table>\n",
       "</div>"
      ],
      "text/plain": [
       "                                                                                                               hypothesis  \\\n",
       "0                                             Add two new channels for attracting traffic. This will bring 30% more users   \n",
       "1                                                       Launch your own delivery service. This will shorten delivery time   \n",
       "2          Add product recommendation blocks to the store's site. This will increase conversion and average purchase size   \n",
       "3  Change the category structure. This will increase conversion since users will find the products they want more quickly   \n",
       "4                                        Change the background color on the main page. This will increase user engagement   \n",
       "5                                                     Add a customer review page. This will increase the number of orders   \n",
       "6                                 Show banners with current offers and sales on the main page. This will boost conversion   \n",
       "7                                Add a subscription form to all the main pages. This will help you compile a mailing list   \n",
       "8                                                        Launch a promotion that gives users discounts on their birthdays   \n",
       "\n",
       "   reach  impact  confidence  effort  \n",
       "0      3      10           8       6  \n",
       "1      2       5           4      10  \n",
       "2      8       3           7       3  \n",
       "3      8       3           3       8  \n",
       "4      3       1           1       1  \n",
       "5      3       2           2       3  \n",
       "6      5       3           8       3  \n",
       "7     10       7           8       5  \n",
       "8      1       9           9       5  "
      ]
     },
     "execution_count": 4,
     "metadata": {},
     "output_type": "execute_result"
    }
   ],
   "source": [
    "# lowercase the columns name\n",
    "pd.set_option('max_colwidth', 450)\n",
    "hypotheses = hypotheses.rename(columns=str.lower)\n",
    "hypotheses"
   ]
  },
  {
   "cell_type": "markdown",
   "id": "c6ccfac6-486e-4605-9189-72c63207bad8",
   "metadata": {},
   "source": [
    " "
   ]
  },
  {
   "cell_type": "markdown",
   "id": "1e8877a8-4ac7-4617-b40c-6ebf0134f165",
   "metadata": {},
   "source": [
    " "
   ]
  },
  {
   "cell_type": "code",
   "execution_count": 5,
   "id": "f5205276-accc-462d-a5f6-286b46e3c83f",
   "metadata": {},
   "outputs": [],
   "source": [
    "# evaluate the priority of hypotheses\n",
    "hypotheses['ice'] = hypotheses[['impact', 'confidence']].prod(axis=1) / hypotheses['effort']\n",
    "hypotheses['rice'] =hypotheses[['reach', 'impact', 'confidence']].prod(axis=1) / hypotheses['effort']"
   ]
  },
  {
   "cell_type": "code",
   "execution_count": 6,
   "id": "8880e4d0-e16c-4c27-9ca0-47e580cb91a3",
   "metadata": {},
   "outputs": [
    {
     "data": {
      "text/html": [
       "<div>\n",
       "<style scoped>\n",
       "    .dataframe tbody tr th:only-of-type {\n",
       "        vertical-align: middle;\n",
       "    }\n",
       "\n",
       "    .dataframe tbody tr th {\n",
       "        vertical-align: top;\n",
       "    }\n",
       "\n",
       "    .dataframe thead th {\n",
       "        text-align: right;\n",
       "    }\n",
       "</style>\n",
       "<table border=\"1\" class=\"dataframe\">\n",
       "  <thead>\n",
       "    <tr style=\"text-align: right;\">\n",
       "      <th></th>\n",
       "      <th>hypothesis</th>\n",
       "      <th>ice</th>\n",
       "    </tr>\n",
       "  </thead>\n",
       "  <tbody>\n",
       "    <tr>\n",
       "      <th>8</th>\n",
       "      <td>Launch a promotion that gives users discounts on their birthdays</td>\n",
       "      <td>16.200000</td>\n",
       "    </tr>\n",
       "    <tr>\n",
       "      <th>0</th>\n",
       "      <td>Add two new channels for attracting traffic. This will bring 30% more users</td>\n",
       "      <td>13.333333</td>\n",
       "    </tr>\n",
       "    <tr>\n",
       "      <th>7</th>\n",
       "      <td>Add a subscription form to all the main pages. This will help you compile a mailing list</td>\n",
       "      <td>11.200000</td>\n",
       "    </tr>\n",
       "    <tr>\n",
       "      <th>6</th>\n",
       "      <td>Show banners with current offers and sales on the main page. This will boost conversion</td>\n",
       "      <td>8.000000</td>\n",
       "    </tr>\n",
       "    <tr>\n",
       "      <th>2</th>\n",
       "      <td>Add product recommendation blocks to the store's site. This will increase conversion and average purchase size</td>\n",
       "      <td>7.000000</td>\n",
       "    </tr>\n",
       "  </tbody>\n",
       "</table>\n",
       "</div>"
      ],
      "text/plain": [
       "                                                                                                       hypothesis  \\\n",
       "8                                                Launch a promotion that gives users discounts on their birthdays   \n",
       "0                                     Add two new channels for attracting traffic. This will bring 30% more users   \n",
       "7                        Add a subscription form to all the main pages. This will help you compile a mailing list   \n",
       "6                         Show banners with current offers and sales on the main page. This will boost conversion   \n",
       "2  Add product recommendation blocks to the store's site. This will increase conversion and average purchase size   \n",
       "\n",
       "         ice  \n",
       "8  16.200000  \n",
       "0  13.333333  \n",
       "7  11.200000  \n",
       "6   8.000000  \n",
       "2   7.000000  "
      ]
     },
     "execution_count": 6,
     "metadata": {},
     "output_type": "execute_result"
    }
   ],
   "source": [
    "# top 5 ICE\n",
    "hypotheses[['hypothesis', 'ice']].sort_values(by='ice', ascending=False).head()"
   ]
  },
  {
   "cell_type": "code",
   "execution_count": 7,
   "id": "aae894e4-83c0-405a-966d-b065d69ea49f",
   "metadata": {},
   "outputs": [
    {
     "data": {
      "text/html": [
       "<div>\n",
       "<style scoped>\n",
       "    .dataframe tbody tr th:only-of-type {\n",
       "        vertical-align: middle;\n",
       "    }\n",
       "\n",
       "    .dataframe tbody tr th {\n",
       "        vertical-align: top;\n",
       "    }\n",
       "\n",
       "    .dataframe thead th {\n",
       "        text-align: right;\n",
       "    }\n",
       "</style>\n",
       "<table border=\"1\" class=\"dataframe\">\n",
       "  <thead>\n",
       "    <tr style=\"text-align: right;\">\n",
       "      <th></th>\n",
       "      <th>hypothesis</th>\n",
       "      <th>rice</th>\n",
       "    </tr>\n",
       "  </thead>\n",
       "  <tbody>\n",
       "    <tr>\n",
       "      <th>7</th>\n",
       "      <td>Add a subscription form to all the main pages. This will help you compile a mailing list</td>\n",
       "      <td>112.0</td>\n",
       "    </tr>\n",
       "    <tr>\n",
       "      <th>2</th>\n",
       "      <td>Add product recommendation blocks to the store's site. This will increase conversion and average purchase size</td>\n",
       "      <td>56.0</td>\n",
       "    </tr>\n",
       "    <tr>\n",
       "      <th>0</th>\n",
       "      <td>Add two new channels for attracting traffic. This will bring 30% more users</td>\n",
       "      <td>40.0</td>\n",
       "    </tr>\n",
       "    <tr>\n",
       "      <th>6</th>\n",
       "      <td>Show banners with current offers and sales on the main page. This will boost conversion</td>\n",
       "      <td>40.0</td>\n",
       "    </tr>\n",
       "    <tr>\n",
       "      <th>8</th>\n",
       "      <td>Launch a promotion that gives users discounts on their birthdays</td>\n",
       "      <td>16.2</td>\n",
       "    </tr>\n",
       "  </tbody>\n",
       "</table>\n",
       "</div>"
      ],
      "text/plain": [
       "                                                                                                       hypothesis  \\\n",
       "7                        Add a subscription form to all the main pages. This will help you compile a mailing list   \n",
       "2  Add product recommendation blocks to the store's site. This will increase conversion and average purchase size   \n",
       "0                                     Add two new channels for attracting traffic. This will bring 30% more users   \n",
       "6                         Show banners with current offers and sales on the main page. This will boost conversion   \n",
       "8                                                Launch a promotion that gives users discounts on their birthdays   \n",
       "\n",
       "    rice  \n",
       "7  112.0  \n",
       "2   56.0  \n",
       "0   40.0  \n",
       "6   40.0  \n",
       "8   16.2  "
      ]
     },
     "execution_count": 7,
     "metadata": {},
     "output_type": "execute_result"
    }
   ],
   "source": [
    "# top 5 RICE\n",
    "hypotheses[['hypothesis', 'rice']].sort_values(by='rice', ascending=False).head()\n"
   ]
  },
  {
   "cell_type": "markdown",
   "id": "a8a0949a-ef11-45cd-936e-c9aa95630fa5",
   "metadata": {},
   "source": [
    " "
   ]
  },
  {
   "cell_type": "markdown",
   "id": "ef036697-066c-40cd-8147-1055f37c0d3e",
   "metadata": {},
   "source": [
    "### Insight"
   ]
  },
  {
   "cell_type": "markdown",
   "id": "e391d383-f2b3-45a6-84b1-b3ed42f2fdba",
   "metadata": {},
   "source": [
    "- ICE or RICE generated a different result of the hypothesis to be prioritized\n",
    "- The highest score hypothesis based on ICE is `Launch a promotion that gives users discounts on their birthdays`\n",
    "- The highest score hypothesis based on RICE is `Add a subscription form to all the main pages.`\n",
    "- Ultimately, the decision to use RICE or ICE depends on the specific project and the goals we want to achieve.\n",
    "- If we have limited resources and want to focus on relatively easy ideas to implement or based purely on their potential impact, then ICE might be a better fit.\n",
    "- Meanwhile, If we are working on a project with a large user base and want to prioritize ideas that will impact a significant number of users, then RICE might be the better option."
   ]
  },
  {
   "cell_type": "markdown",
   "id": "0e80f2e1-e865-4752-afcc-81e3075434a3",
   "metadata": {},
   "source": [
    " "
   ]
  },
  {
   "cell_type": "markdown",
   "id": "5815db4a-f2f0-41ee-bdb4-dbcf1c175dff",
   "metadata": {},
   "source": [
    " "
   ]
  },
  {
   "cell_type": "markdown",
   "id": "11f8e97c-58ca-4c62-bf27-46a1e0652579",
   "metadata": {},
   "source": [
    " "
   ]
  },
  {
   "cell_type": "markdown",
   "id": "559bb5d8-4f49-4c01-b1ad-f5b3b996126c",
   "metadata": {},
   "source": [
    " "
   ]
  },
  {
   "cell_type": "markdown",
   "id": "c633246b-bd9e-474f-9f46-3f268e371716",
   "metadata": {},
   "source": [
    " "
   ]
  },
  {
   "cell_type": "markdown",
   "id": "2ccc516f-477d-4819-b24f-947e41d3cef5",
   "metadata": {},
   "source": [
    "## A/B TESTING ANALYSIS"
   ]
  },
  {
   "cell_type": "markdown",
   "id": "47ea3ab9-ed92-4692-948c-29721132bc9b",
   "metadata": {},
   "source": [
    "### Data Preprocessing\n",
    "\n",
    "After conducting the A/B testing, we got two primary datasets (i.e., `orders` and `visitors`). This section will ensure the datasets are free from missing values and duplicates, contain proper datatype, then transform the dataset for further analysis."
   ]
  },
  {
   "cell_type": "markdown",
   "id": "b8e13332-083b-4841-9d59-4defaea9f5c1",
   "metadata": {},
   "source": [
    "#### Orders"
   ]
  },
  {
   "cell_type": "markdown",
   "id": "40eb808d-1717-4a0b-a54d-99e70a43c19d",
   "metadata": {
    "tags": []
   },
   "source": [
    "**Description:**\n",
    "- `transactionId` — order identifier\n",
    "- `visitorId` — identifier of the user who placed the order\n",
    "- `date` — of the order\n",
    "- `revenue` — from the order\n",
    "- `group` — the A/B test group that the user belongs to"
   ]
  },
  {
   "cell_type": "code",
   "execution_count": 8,
   "id": "6387625f-4088-4397-b198-d6473f62b60b",
   "metadata": {},
   "outputs": [],
   "source": [
    "# load dataset\n",
    "try:\n",
    "    orders = pd.read_csv('orders_us.csv', parse_dates=['date'])\n",
    "except:\n",
    "    orders = pd.read_csv('/datasets/orders_us.csv', parse_dates=['date'])"
   ]
  },
  {
   "cell_type": "code",
   "execution_count": 9,
   "id": "243cd368-b7bd-497d-8dce-1df0503e649b",
   "metadata": {},
   "outputs": [
    {
     "name": "stdout",
     "output_type": "stream",
     "text": [
      "<class 'pandas.core.frame.DataFrame'>\n",
      "RangeIndex: 1197 entries, 0 to 1196\n",
      "Data columns (total 5 columns):\n",
      " #   Column         Non-Null Count  Dtype         \n",
      "---  ------         --------------  -----         \n",
      " 0   transactionId  1197 non-null   int64         \n",
      " 1   visitorId      1197 non-null   int64         \n",
      " 2   date           1197 non-null   datetime64[ns]\n",
      " 3   revenue        1197 non-null   float64       \n",
      " 4   group          1197 non-null   object        \n",
      "dtypes: datetime64[ns](1), float64(1), int64(2), object(1)\n",
      "memory usage: 46.9+ KB\n"
     ]
    }
   ],
   "source": [
    "# check `orders` info\n",
    "orders.info()"
   ]
  },
  {
   "cell_type": "code",
   "execution_count": 10,
   "id": "81f4cb47-2272-46df-b4f2-6d584aa9d560",
   "metadata": {},
   "outputs": [
    {
     "data": {
      "text/plain": [
       "0"
      ]
     },
     "execution_count": 10,
     "metadata": {},
     "output_type": "execute_result"
    }
   ],
   "source": [
    "# check duplicates\n",
    "orders.duplicated().sum()"
   ]
  },
  {
   "cell_type": "code",
   "execution_count": 11,
   "id": "71d08c27-b2de-4289-94c0-37275ec18820",
   "metadata": {},
   "outputs": [
    {
     "data": {
      "text/plain": [
       "visitorId\n",
       "2654030115    2\n",
       "3891541246    2\n",
       "3941795274    2\n",
       "1404934699    2\n",
       "351125977     2\n",
       "             ..\n",
       "1476256851    1\n",
       "1476741193    1\n",
       "1484903144    1\n",
       "1485964287    1\n",
       "4283872382    1\n",
       "Name: group, Length: 1031, dtype: int64"
      ]
     },
     "execution_count": 11,
     "metadata": {},
     "output_type": "execute_result"
    }
   ],
   "source": [
    "# ensure one `visitorId` belongs to one `group`\n",
    "num_visitor_group = orders[['visitorId','group']].groupby('visitorId')['group'].nunique()\n",
    "num_visitor_group.sort_values(ascending=False)"
   ]
  },
  {
   "cell_type": "code",
   "execution_count": 12,
   "id": "cf587178-1b5a-4651-bd66-fe43fb1303af",
   "metadata": {},
   "outputs": [],
   "source": [
    "# list `visitorId` that belongs to one group\n",
    "one_group = num_visitor_group[num_visitor_group == 1].index\n",
    "\n",
    "# separate `visitorId` that belongs to one group and two groups\n",
    "orders_clean = orders.loc[orders['visitorId'].isin(one_group)]\n",
    "visitor_two_groups = orders.loc[~orders['visitorId'].isin(one_group)]"
   ]
  },
  {
   "cell_type": "code",
   "execution_count": 13,
   "id": "4d4bc624-5650-48d5-b26f-3fe841c12f03",
   "metadata": {},
   "outputs": [
    {
     "name": "stdout",
     "output_type": "stream",
     "text": [
      "raw orders rows: 1197\n",
      "Non-duplicated rows: 1016\n",
      "Duplicated rows: 181\n",
      "Number of unique visitorIds were in two groups: 58\n"
     ]
    }
   ],
   "source": [
    "print('raw orders rows:', len(orders))\n",
    "print('Non-duplicated rows:', len(orders_clean))\n",
    "print('Duplicated rows:', len(visitor_two_groups))\n",
    "print('Number of unique visitorIds were in two groups:', visitor_two_groups.visitorId.nunique())"
   ]
  },
  {
   "cell_type": "code",
   "execution_count": 14,
   "id": "93daaf86-8aaf-4195-b35b-4c62a8e8592e",
   "metadata": {},
   "outputs": [
    {
     "name": "stdout",
     "output_type": "stream",
     "text": [
      "Total rows: 181\n"
     ]
    },
    {
     "data": {
      "text/html": [
       "<div>\n",
       "<style scoped>\n",
       "    .dataframe tbody tr th:only-of-type {\n",
       "        vertical-align: middle;\n",
       "    }\n",
       "\n",
       "    .dataframe tbody tr th {\n",
       "        vertical-align: top;\n",
       "    }\n",
       "\n",
       "    .dataframe thead th {\n",
       "        text-align: right;\n",
       "    }\n",
       "</style>\n",
       "<table border=\"1\" class=\"dataframe\">\n",
       "  <thead>\n",
       "    <tr style=\"text-align: right;\">\n",
       "      <th></th>\n",
       "      <th>transactionId</th>\n",
       "      <th>visitorId</th>\n",
       "      <th>date</th>\n",
       "      <th>revenue</th>\n",
       "      <th>group</th>\n",
       "    </tr>\n",
       "  </thead>\n",
       "  <tbody>\n",
       "    <tr>\n",
       "      <th>71</th>\n",
       "      <td>3679129301</td>\n",
       "      <td>8300375</td>\n",
       "      <td>2019-08-01</td>\n",
       "      <td>165.7</td>\n",
       "      <td>B</td>\n",
       "    </tr>\n",
       "    <tr>\n",
       "      <th>703</th>\n",
       "      <td>4293855558</td>\n",
       "      <td>8300375</td>\n",
       "      <td>2019-08-07</td>\n",
       "      <td>30.5</td>\n",
       "      <td>A</td>\n",
       "    </tr>\n",
       "    <tr>\n",
       "      <th>246</th>\n",
       "      <td>437656952</td>\n",
       "      <td>199603092</td>\n",
       "      <td>2019-08-02</td>\n",
       "      <td>55.7</td>\n",
       "      <td>B</td>\n",
       "    </tr>\n",
       "    <tr>\n",
       "      <th>1102</th>\n",
       "      <td>1941707234</td>\n",
       "      <td>199603092</td>\n",
       "      <td>2019-08-12</td>\n",
       "      <td>100.0</td>\n",
       "      <td>A</td>\n",
       "    </tr>\n",
       "    <tr>\n",
       "      <th>26</th>\n",
       "      <td>2223239646</td>\n",
       "      <td>199603092</td>\n",
       "      <td>2019-08-15</td>\n",
       "      <td>55.7</td>\n",
       "      <td>A</td>\n",
       "    </tr>\n",
       "  </tbody>\n",
       "</table>\n",
       "</div>"
      ],
      "text/plain": [
       "      transactionId  visitorId       date  revenue group\n",
       "71       3679129301    8300375 2019-08-01    165.7     B\n",
       "703      4293855558    8300375 2019-08-07     30.5     A\n",
       "246       437656952  199603092 2019-08-02     55.7     B\n",
       "1102     1941707234  199603092 2019-08-12    100.0     A\n",
       "26       2223239646  199603092 2019-08-15     55.7     A"
      ]
     },
     "execution_count": 14,
     "metadata": {},
     "output_type": "execute_result"
    }
   ],
   "source": [
    "# check the result\n",
    "print('Total rows:', len(visitor_two_groups))\n",
    "visitor_two_groups.sort_values(by=['visitorId', 'date']).head()"
   ]
  },
  {
   "cell_type": "markdown",
   "id": "12f8e234-5c9f-492d-913c-3a675eeadfbc",
   "metadata": {},
   "source": [
    "**FINDING:**<br>\n",
    "- The dataset has no missing values and duplicates\n",
    "- There are `visitorId`s who are categorized into both groups (A and B)\n",
    "- In A/B testing, it's important to ensure that each user is only assigned to one group. If a user is in both groups (A and B), then the results of the test will be skewed and invalid, as the user's behavior will be counted twice.\n",
    "\n",
    "**ACTION:**<br>\n",
    "- Here are the steps to overcome double group in `visitorId`\n",
    "    1. Separate `visitorId` who is in the double group (✅done) \n",
    "    2. Choose the group of `visitorId` based on first order date \n",
    "    3. Remove `orders` records from another group\n",
    "    4. Preserve `orders` records from the same group"
   ]
  },
  {
   "cell_type": "markdown",
   "id": "cc73050a-d692-4a3f-a11b-273a0514e2f9",
   "metadata": {},
   "source": [
    " "
   ]
  },
  {
   "cell_type": "markdown",
   "id": "eada88e0-1bb1-4a3d-b420-1b7e2a4f4ce9",
   "metadata": {},
   "source": [
    " "
   ]
  },
  {
   "cell_type": "markdown",
   "id": "a0fc0a3c-08fb-406d-9448-f3357843d939",
   "metadata": {},
   "source": [
    " "
   ]
  },
  {
   "cell_type": "code",
   "execution_count": 15,
   "id": "756e07dc-9b99-47c8-949e-f6c4a4eeccd3",
   "metadata": {},
   "outputs": [
    {
     "name": "stdout",
     "output_type": "stream",
     "text": [
      "Total rows: 58\n"
     ]
    },
    {
     "data": {
      "text/html": [
       "<div>\n",
       "<style scoped>\n",
       "    .dataframe tbody tr th:only-of-type {\n",
       "        vertical-align: middle;\n",
       "    }\n",
       "\n",
       "    .dataframe tbody tr th {\n",
       "        vertical-align: top;\n",
       "    }\n",
       "\n",
       "    .dataframe thead th {\n",
       "        text-align: right;\n",
       "    }\n",
       "</style>\n",
       "<table border=\"1\" class=\"dataframe\">\n",
       "  <thead>\n",
       "    <tr style=\"text-align: right;\">\n",
       "      <th></th>\n",
       "      <th>visitorId</th>\n",
       "      <th>transactionId</th>\n",
       "      <th>date</th>\n",
       "      <th>revenue</th>\n",
       "      <th>group</th>\n",
       "    </tr>\n",
       "  </thead>\n",
       "  <tbody>\n",
       "    <tr>\n",
       "      <th>0</th>\n",
       "      <td>8300375</td>\n",
       "      <td>3679129301</td>\n",
       "      <td>2019-08-01</td>\n",
       "      <td>165.7</td>\n",
       "      <td>B</td>\n",
       "    </tr>\n",
       "    <tr>\n",
       "      <th>1</th>\n",
       "      <td>199603092</td>\n",
       "      <td>437656952</td>\n",
       "      <td>2019-08-02</td>\n",
       "      <td>55.7</td>\n",
       "      <td>B</td>\n",
       "    </tr>\n",
       "    <tr>\n",
       "      <th>2</th>\n",
       "      <td>232979603</td>\n",
       "      <td>2670069237</td>\n",
       "      <td>2019-08-31</td>\n",
       "      <td>45.6</td>\n",
       "      <td>B</td>\n",
       "    </tr>\n",
       "    <tr>\n",
       "      <th>3</th>\n",
       "      <td>237748145</td>\n",
       "      <td>3357467820</td>\n",
       "      <td>2019-08-12</td>\n",
       "      <td>10.2</td>\n",
       "      <td>A</td>\n",
       "    </tr>\n",
       "    <tr>\n",
       "      <th>4</th>\n",
       "      <td>276558944</td>\n",
       "      <td>3894437543</td>\n",
       "      <td>2019-08-12</td>\n",
       "      <td>80.7</td>\n",
       "      <td>A</td>\n",
       "    </tr>\n",
       "  </tbody>\n",
       "</table>\n",
       "</div>"
      ],
      "text/plain": [
       "   visitorId  transactionId       date  revenue group\n",
       "0    8300375     3679129301 2019-08-01    165.7     B\n",
       "1  199603092      437656952 2019-08-02     55.7     B\n",
       "2  232979603     2670069237 2019-08-31     45.6     B\n",
       "3  237748145     3357467820 2019-08-12     10.2     A\n",
       "4  276558944     3894437543 2019-08-12     80.7     A"
      ]
     },
     "execution_count": 15,
     "metadata": {},
     "output_type": "execute_result"
    }
   ],
   "source": [
    "#  Choose the group of `visitorId` based on first order date\n",
    "visitor_two_groups_clean = (visitor_two_groups\n",
    "                           .sort_values('date')\n",
    "                           .groupby('visitorId')\n",
    "                           .first()\n",
    "                           .reset_index()\n",
    "                           )\n",
    "\n",
    "print('Total rows:', len(visitor_two_groups_clean))\n",
    "visitor_two_groups_clean.head()"
   ]
  },
  {
   "cell_type": "code",
   "execution_count": 16,
   "id": "21499ca9-5a19-4458-8439-33ecaf842eb8",
   "metadata": {},
   "outputs": [
    {
     "name": "stdout",
     "output_type": "stream",
     "text": [
      "Total rows: 100\n"
     ]
    },
    {
     "data": {
      "text/html": [
       "<div>\n",
       "<style scoped>\n",
       "    .dataframe tbody tr th:only-of-type {\n",
       "        vertical-align: middle;\n",
       "    }\n",
       "\n",
       "    .dataframe tbody tr th {\n",
       "        vertical-align: top;\n",
       "    }\n",
       "\n",
       "    .dataframe thead th {\n",
       "        text-align: right;\n",
       "    }\n",
       "</style>\n",
       "<table border=\"1\" class=\"dataframe\">\n",
       "  <thead>\n",
       "    <tr style=\"text-align: right;\">\n",
       "      <th></th>\n",
       "      <th>transactionId</th>\n",
       "      <th>visitorId</th>\n",
       "      <th>date</th>\n",
       "      <th>revenue</th>\n",
       "      <th>group</th>\n",
       "    </tr>\n",
       "  </thead>\n",
       "  <tbody>\n",
       "    <tr>\n",
       "      <th>5</th>\n",
       "      <td>3679129301</td>\n",
       "      <td>8300375</td>\n",
       "      <td>2019-08-01</td>\n",
       "      <td>165.7</td>\n",
       "      <td>B</td>\n",
       "    </tr>\n",
       "    <tr>\n",
       "      <th>34</th>\n",
       "      <td>437656952</td>\n",
       "      <td>199603092</td>\n",
       "      <td>2019-08-02</td>\n",
       "      <td>55.7</td>\n",
       "      <td>B</td>\n",
       "    </tr>\n",
       "    <tr>\n",
       "      <th>89</th>\n",
       "      <td>2670069237</td>\n",
       "      <td>232979603</td>\n",
       "      <td>2019-08-31</td>\n",
       "      <td>45.6</td>\n",
       "      <td>B</td>\n",
       "    </tr>\n",
       "    <tr>\n",
       "      <th>4</th>\n",
       "      <td>3357467820</td>\n",
       "      <td>237748145</td>\n",
       "      <td>2019-08-12</td>\n",
       "      <td>10.2</td>\n",
       "      <td>A</td>\n",
       "    </tr>\n",
       "    <tr>\n",
       "      <th>1</th>\n",
       "      <td>2594268419</td>\n",
       "      <td>237748145</td>\n",
       "      <td>2019-08-15</td>\n",
       "      <td>20.8</td>\n",
       "      <td>A</td>\n",
       "    </tr>\n",
       "    <tr>\n",
       "      <th>2</th>\n",
       "      <td>3702128013</td>\n",
       "      <td>237748145</td>\n",
       "      <td>2019-08-20</td>\n",
       "      <td>20.8</td>\n",
       "      <td>A</td>\n",
       "    </tr>\n",
       "    <tr>\n",
       "      <th>3</th>\n",
       "      <td>972407388</td>\n",
       "      <td>237748145</td>\n",
       "      <td>2019-08-27</td>\n",
       "      <td>10.2</td>\n",
       "      <td>A</td>\n",
       "    </tr>\n",
       "    <tr>\n",
       "      <th>92</th>\n",
       "      <td>3894437543</td>\n",
       "      <td>276558944</td>\n",
       "      <td>2019-08-12</td>\n",
       "      <td>80.7</td>\n",
       "      <td>A</td>\n",
       "    </tr>\n",
       "  </tbody>\n",
       "</table>\n",
       "</div>"
      ],
      "text/plain": [
       "    transactionId  visitorId       date  revenue group\n",
       "5      3679129301    8300375 2019-08-01    165.7     B\n",
       "34      437656952  199603092 2019-08-02     55.7     B\n",
       "89     2670069237  232979603 2019-08-31     45.6     B\n",
       "4      3357467820  237748145 2019-08-12     10.2     A\n",
       "1      2594268419  237748145 2019-08-15     20.8     A\n",
       "2      3702128013  237748145 2019-08-20     20.8     A\n",
       "3       972407388  237748145 2019-08-27     10.2     A\n",
       "92     3894437543  276558944 2019-08-12     80.7     A"
      ]
     },
     "execution_count": 16,
     "metadata": {},
     "output_type": "execute_result"
    }
   ],
   "source": [
    "# Remove `orders` records from another group\n",
    "# Preserve `orders` records from the same group\n",
    "visitorId_clean = (visitor_two_groups\n",
    "                   .merge(visitor_two_groups_clean,\n",
    "                          how='inner',\n",
    "                          on=['visitorId', 'group'],\n",
    "                          suffixes=['_','_ref'])\n",
    "                   .sort_values(by=['visitorId','date_'])\n",
    "                   .drop(columns=['transactionId_ref', 'date_ref', 'revenue_ref'])\n",
    "                  )\n",
    "\n",
    "visitorId_clean.columns = ['transactionId', 'visitorId', 'date', 'revenue', 'group']\n",
    "\n",
    "# check the result\n",
    "print('Total rows:', len(visitorId_clean))\n",
    "visitorId_clean.head(8)"
   ]
  },
  {
   "cell_type": "code",
   "execution_count": 17,
   "id": "2be0c8cf-6f64-472b-ae17-5f09bc1397ae",
   "metadata": {},
   "outputs": [
    {
     "data": {
      "text/html": [
       "<div>\n",
       "<style scoped>\n",
       "    .dataframe tbody tr th:only-of-type {\n",
       "        vertical-align: middle;\n",
       "    }\n",
       "\n",
       "    .dataframe tbody tr th {\n",
       "        vertical-align: top;\n",
       "    }\n",
       "\n",
       "    .dataframe thead th {\n",
       "        text-align: right;\n",
       "    }\n",
       "</style>\n",
       "<table border=\"1\" class=\"dataframe\">\n",
       "  <thead>\n",
       "    <tr style=\"text-align: right;\">\n",
       "      <th></th>\n",
       "      <th>transactionId</th>\n",
       "      <th>visitorId</th>\n",
       "      <th>date</th>\n",
       "      <th>revenue</th>\n",
       "      <th>group</th>\n",
       "    </tr>\n",
       "  </thead>\n",
       "  <tbody>\n",
       "    <tr>\n",
       "      <th>0</th>\n",
       "      <td>3667963787</td>\n",
       "      <td>3312258926</td>\n",
       "      <td>2019-08-15</td>\n",
       "      <td>30.4</td>\n",
       "      <td>B</td>\n",
       "    </tr>\n",
       "    <tr>\n",
       "      <th>1</th>\n",
       "      <td>2804400009</td>\n",
       "      <td>3642806036</td>\n",
       "      <td>2019-08-15</td>\n",
       "      <td>15.2</td>\n",
       "      <td>B</td>\n",
       "    </tr>\n",
       "    <tr>\n",
       "      <th>3</th>\n",
       "      <td>3797467345</td>\n",
       "      <td>1196621759</td>\n",
       "      <td>2019-08-15</td>\n",
       "      <td>155.1</td>\n",
       "      <td>B</td>\n",
       "    </tr>\n",
       "    <tr>\n",
       "      <th>4</th>\n",
       "      <td>2282983706</td>\n",
       "      <td>2322279887</td>\n",
       "      <td>2019-08-15</td>\n",
       "      <td>40.5</td>\n",
       "      <td>B</td>\n",
       "    </tr>\n",
       "    <tr>\n",
       "      <th>5</th>\n",
       "      <td>182168103</td>\n",
       "      <td>935554773</td>\n",
       "      <td>2019-08-15</td>\n",
       "      <td>35.0</td>\n",
       "      <td>B</td>\n",
       "    </tr>\n",
       "    <tr>\n",
       "      <th>...</th>\n",
       "      <td>...</td>\n",
       "      <td>...</td>\n",
       "      <td>...</td>\n",
       "      <td>...</td>\n",
       "      <td>...</td>\n",
       "    </tr>\n",
       "    <tr>\n",
       "      <th>16</th>\n",
       "      <td>3700356838</td>\n",
       "      <td>4256040402</td>\n",
       "      <td>2019-08-20</td>\n",
       "      <td>275.5</td>\n",
       "      <td>A</td>\n",
       "    </tr>\n",
       "    <tr>\n",
       "      <th>15</th>\n",
       "      <td>1610091760</td>\n",
       "      <td>4256040402</td>\n",
       "      <td>2019-08-23</td>\n",
       "      <td>265.8</td>\n",
       "      <td>A</td>\n",
       "    </tr>\n",
       "    <tr>\n",
       "      <th>17</th>\n",
       "      <td>3402467119</td>\n",
       "      <td>4256040402</td>\n",
       "      <td>2019-08-27</td>\n",
       "      <td>30.1</td>\n",
       "      <td>A</td>\n",
       "    </tr>\n",
       "    <tr>\n",
       "      <th>18</th>\n",
       "      <td>1415970216</td>\n",
       "      <td>4256040402</td>\n",
       "      <td>2019-08-31</td>\n",
       "      <td>80.5</td>\n",
       "      <td>A</td>\n",
       "    </tr>\n",
       "    <tr>\n",
       "      <th>70</th>\n",
       "      <td>1811671147</td>\n",
       "      <td>4266935830</td>\n",
       "      <td>2019-08-29</td>\n",
       "      <td>1220.2</td>\n",
       "      <td>A</td>\n",
       "    </tr>\n",
       "  </tbody>\n",
       "</table>\n",
       "<p>1116 rows × 5 columns</p>\n",
       "</div>"
      ],
      "text/plain": [
       "    transactionId   visitorId       date  revenue group\n",
       "0      3667963787  3312258926 2019-08-15     30.4     B\n",
       "1      2804400009  3642806036 2019-08-15     15.2     B\n",
       "3      3797467345  1196621759 2019-08-15    155.1     B\n",
       "4      2282983706  2322279887 2019-08-15     40.5     B\n",
       "5       182168103   935554773 2019-08-15     35.0     B\n",
       "..            ...         ...        ...      ...   ...\n",
       "16     3700356838  4256040402 2019-08-20    275.5     A\n",
       "15     1610091760  4256040402 2019-08-23    265.8     A\n",
       "17     3402467119  4256040402 2019-08-27     30.1     A\n",
       "18     1415970216  4256040402 2019-08-31     80.5     A\n",
       "70     1811671147  4266935830 2019-08-29   1220.2     A\n",
       "\n",
       "[1116 rows x 5 columns]"
      ]
     },
     "execution_count": 17,
     "metadata": {},
     "output_type": "execute_result"
    }
   ],
   "source": [
    "# merge 'visitorId_clean` and `orders_clean`\n",
    "orders_clean = pd.concat([orders_clean, visitorId_clean])\n",
    "\n",
    "# retrieve the result\n",
    "orders_clean"
   ]
  },
  {
   "cell_type": "code",
   "execution_count": 18,
   "id": "59a96ecf-1c1d-49ab-bdb8-a28d40cb23ee",
   "metadata": {
    "scrolled": true,
    "tags": []
   },
   "outputs": [
    {
     "data": {
      "text/plain": [
       "1"
      ]
     },
     "execution_count": 18,
     "metadata": {},
     "output_type": "execute_result"
    }
   ],
   "source": [
    "# validate the results\n",
    "# ensure one `visitorId` only belongs to one `group`\n",
    "check = orders_clean.groupby('visitorId')['group'].nunique().reset_index()\n",
    "check['group'].nunique()"
   ]
  },
  {
   "cell_type": "markdown",
   "id": "e6360fef-2cd7-4694-849f-08e7b9d061a2",
   "metadata": {},
   "source": [
    " "
   ]
  },
  {
   "cell_type": "markdown",
   "id": "8461b2cf-99ef-454b-866a-e91e63bcf33b",
   "metadata": {},
   "source": [
    " "
   ]
  },
  {
   "cell_type": "markdown",
   "id": "754438f1-6ade-4339-a38c-beb9bf36ccbf",
   "metadata": {},
   "source": [
    " "
   ]
  },
  {
   "cell_type": "markdown",
   "id": "9ef2be6f-8a51-4db0-a145-4ae79588caf7",
   "metadata": {
    "tags": []
   },
   "source": [
    "#### Visitors"
   ]
  },
  {
   "cell_type": "markdown",
   "id": "41413164-c20f-4510-9f5b-cbf78d7f3799",
   "metadata": {},
   "source": [
    "**Descriptions:**<br>\n",
    "- `date` — date\n",
    "- `group` — A/B test group\n",
    "- `visits` — the number of visits on the date specified in the A/B test group specified\n"
   ]
  },
  {
   "cell_type": "code",
   "execution_count": 19,
   "id": "838a9ffd-b01e-45de-9041-12284939207a",
   "metadata": {},
   "outputs": [],
   "source": [
    "# load dataset\n",
    "try:\n",
    "    visitors = pd.read_csv('visitors_us.csv', parse_dates=['date'])\n",
    "except:\n",
    "    visitors = pd.read_csv('/datasets/visits_us.csv', parse_dates=['date'])"
   ]
  },
  {
   "cell_type": "code",
   "execution_count": 20,
   "id": "6538ebf7-0df2-4dae-aa2e-4df2d5d2db9e",
   "metadata": {},
   "outputs": [
    {
     "name": "stdout",
     "output_type": "stream",
     "text": [
      "<class 'pandas.core.frame.DataFrame'>\n",
      "RangeIndex: 62 entries, 0 to 61\n",
      "Data columns (total 3 columns):\n",
      " #   Column  Non-Null Count  Dtype         \n",
      "---  ------  --------------  -----         \n",
      " 0   date    62 non-null     datetime64[ns]\n",
      " 1   group   62 non-null     object        \n",
      " 2   visits  62 non-null     int64         \n",
      "dtypes: datetime64[ns](1), int64(1), object(1)\n",
      "memory usage: 1.6+ KB\n"
     ]
    }
   ],
   "source": [
    "# check info\n",
    "visitors.info()"
   ]
  },
  {
   "cell_type": "code",
   "execution_count": 21,
   "id": "bd637014-f9f1-4e27-b96b-72f558b7753d",
   "metadata": {},
   "outputs": [
    {
     "data": {
      "text/html": [
       "<div>\n",
       "<style scoped>\n",
       "    .dataframe tbody tr th:only-of-type {\n",
       "        vertical-align: middle;\n",
       "    }\n",
       "\n",
       "    .dataframe tbody tr th {\n",
       "        vertical-align: top;\n",
       "    }\n",
       "\n",
       "    .dataframe thead th {\n",
       "        text-align: right;\n",
       "    }\n",
       "</style>\n",
       "<table border=\"1\" class=\"dataframe\">\n",
       "  <thead>\n",
       "    <tr style=\"text-align: right;\">\n",
       "      <th></th>\n",
       "      <th>date</th>\n",
       "      <th>group</th>\n",
       "      <th>visits</th>\n",
       "    </tr>\n",
       "  </thead>\n",
       "  <tbody>\n",
       "    <tr>\n",
       "      <th>0</th>\n",
       "      <td>2019-08-01</td>\n",
       "      <td>A</td>\n",
       "      <td>719</td>\n",
       "    </tr>\n",
       "    <tr>\n",
       "      <th>1</th>\n",
       "      <td>2019-08-02</td>\n",
       "      <td>A</td>\n",
       "      <td>619</td>\n",
       "    </tr>\n",
       "    <tr>\n",
       "      <th>2</th>\n",
       "      <td>2019-08-03</td>\n",
       "      <td>A</td>\n",
       "      <td>507</td>\n",
       "    </tr>\n",
       "    <tr>\n",
       "      <th>3</th>\n",
       "      <td>2019-08-04</td>\n",
       "      <td>A</td>\n",
       "      <td>717</td>\n",
       "    </tr>\n",
       "    <tr>\n",
       "      <th>4</th>\n",
       "      <td>2019-08-05</td>\n",
       "      <td>A</td>\n",
       "      <td>756</td>\n",
       "    </tr>\n",
       "  </tbody>\n",
       "</table>\n",
       "</div>"
      ],
      "text/plain": [
       "        date group  visits\n",
       "0 2019-08-01     A     719\n",
       "1 2019-08-02     A     619\n",
       "2 2019-08-03     A     507\n",
       "3 2019-08-04     A     717\n",
       "4 2019-08-05     A     756"
      ]
     },
     "execution_count": 21,
     "metadata": {},
     "output_type": "execute_result"
    }
   ],
   "source": [
    "# retrieve datasets\n",
    "visitors.head()"
   ]
  },
  {
   "cell_type": "code",
   "execution_count": 22,
   "id": "d5be1a04-12d1-49c7-9e10-d5a53ab10d36",
   "metadata": {},
   "outputs": [
    {
     "data": {
      "text/plain": [
       "0"
      ]
     },
     "execution_count": 22,
     "metadata": {},
     "output_type": "execute_result"
    }
   ],
   "source": [
    "# check duplicates\n",
    "visitors.duplicated(['date', 'group']).sum()"
   ]
  },
  {
   "cell_type": "markdown",
   "id": "213b8803-3946-4b33-a2f5-64ea54ebbd3d",
   "metadata": {},
   "source": [
    " "
   ]
  },
  {
   "cell_type": "markdown",
   "id": "8892508f-b1e6-436c-af1d-114c96c891e3",
   "metadata": {},
   "source": [
    " "
   ]
  },
  {
   "cell_type": "markdown",
   "id": "d8579df2-feb9-441e-9e54-179af336dd6c",
   "metadata": {},
   "source": [
    " "
   ]
  },
  {
   "cell_type": "markdown",
   "id": "fc6ebf90-42ce-44b1-a526-b5819afca3d6",
   "metadata": {},
   "source": [
    "#### Cumulative Data"
   ]
  },
  {
   "cell_type": "markdown",
   "id": "869fd977-009c-4a06-a16a-da1ad6284d3e",
   "metadata": {},
   "source": [
    "This section will aggregate and transform all the datasets to contain cumulative values for total transactions, buyers, visitors, and revenue."
   ]
  },
  {
   "cell_type": "code",
   "execution_count": 23,
   "id": "6d5c593c-6c73-4251-9ee6-b48810d25213",
   "metadata": {
    "tags": []
   },
   "outputs": [
    {
     "data": {
      "text/html": [
       "<div>\n",
       "<style scoped>\n",
       "    .dataframe tbody tr th:only-of-type {\n",
       "        vertical-align: middle;\n",
       "    }\n",
       "\n",
       "    .dataframe tbody tr th {\n",
       "        vertical-align: top;\n",
       "    }\n",
       "\n",
       "    .dataframe thead th {\n",
       "        text-align: right;\n",
       "    }\n",
       "</style>\n",
       "<table border=\"1\" class=\"dataframe\">\n",
       "  <thead>\n",
       "    <tr style=\"text-align: right;\">\n",
       "      <th></th>\n",
       "      <th>date</th>\n",
       "      <th>group</th>\n",
       "      <th>transactionId</th>\n",
       "      <th>visitorId</th>\n",
       "      <th>revenue</th>\n",
       "    </tr>\n",
       "  </thead>\n",
       "  <tbody>\n",
       "    <tr>\n",
       "      <th>55</th>\n",
       "      <td>2019-08-01</td>\n",
       "      <td>A</td>\n",
       "      <td>24</td>\n",
       "      <td>20</td>\n",
       "      <td>2356.8</td>\n",
       "    </tr>\n",
       "    <tr>\n",
       "      <th>66</th>\n",
       "      <td>2019-08-01</td>\n",
       "      <td>B</td>\n",
       "      <td>21</td>\n",
       "      <td>20</td>\n",
       "      <td>1620.0</td>\n",
       "    </tr>\n",
       "    <tr>\n",
       "      <th>175</th>\n",
       "      <td>2019-08-02</td>\n",
       "      <td>A</td>\n",
       "      <td>43</td>\n",
       "      <td>37</td>\n",
       "      <td>3825.1</td>\n",
       "    </tr>\n",
       "    <tr>\n",
       "      <th>173</th>\n",
       "      <td>2019-08-02</td>\n",
       "      <td>B</td>\n",
       "      <td>45</td>\n",
       "      <td>43</td>\n",
       "      <td>4243.8</td>\n",
       "    </tr>\n",
       "    <tr>\n",
       "      <th>291</th>\n",
       "      <td>2019-08-03</td>\n",
       "      <td>A</td>\n",
       "      <td>67</td>\n",
       "      <td>61</td>\n",
       "      <td>5640.3</td>\n",
       "    </tr>\n",
       "    <tr>\n",
       "      <th>...</th>\n",
       "      <td>...</td>\n",
       "      <td>...</td>\n",
       "      <td>...</td>\n",
       "      <td>...</td>\n",
       "      <td>...</td>\n",
       "    </tr>\n",
       "    <tr>\n",
       "      <th>533</th>\n",
       "      <td>2019-08-29</td>\n",
       "      <td>B</td>\n",
       "      <td>559</td>\n",
       "      <td>519</td>\n",
       "      <td>80971.1</td>\n",
       "    </tr>\n",
       "    <tr>\n",
       "      <th>757</th>\n",
       "      <td>2019-08-30</td>\n",
       "      <td>A</td>\n",
       "      <td>506</td>\n",
       "      <td>463</td>\n",
       "      <td>58057.7</td>\n",
       "    </tr>\n",
       "    <tr>\n",
       "      <th>690</th>\n",
       "      <td>2019-08-30</td>\n",
       "      <td>B</td>\n",
       "      <td>582</td>\n",
       "      <td>542</td>\n",
       "      <td>84328.6</td>\n",
       "    </tr>\n",
       "    <tr>\n",
       "      <th>958</th>\n",
       "      <td>2019-08-31</td>\n",
       "      <td>A</td>\n",
       "      <td>516</td>\n",
       "      <td>471</td>\n",
       "      <td>58997.3</td>\n",
       "    </tr>\n",
       "    <tr>\n",
       "      <th>930</th>\n",
       "      <td>2019-08-31</td>\n",
       "      <td>B</td>\n",
       "      <td>600</td>\n",
       "      <td>560</td>\n",
       "      <td>86161.9</td>\n",
       "    </tr>\n",
       "  </tbody>\n",
       "</table>\n",
       "<p>62 rows × 5 columns</p>\n",
       "</div>"
      ],
      "text/plain": [
       "          date group  transactionId  visitorId  revenue\n",
       "55  2019-08-01     A             24         20   2356.8\n",
       "66  2019-08-01     B             21         20   1620.0\n",
       "175 2019-08-02     A             43         37   3825.1\n",
       "173 2019-08-02     B             45         43   4243.8\n",
       "291 2019-08-03     A             67         61   5640.3\n",
       "..         ...   ...            ...        ...      ...\n",
       "533 2019-08-29     B            559        519  80971.1\n",
       "757 2019-08-30     A            506        463  58057.7\n",
       "690 2019-08-30     B            582        542  84328.6\n",
       "958 2019-08-31     A            516        471  58997.3\n",
       "930 2019-08-31     B            600        560  86161.9\n",
       "\n",
       "[62 rows x 5 columns]"
      ]
     },
     "execution_count": 23,
     "metadata": {},
     "output_type": "execute_result"
    }
   ],
   "source": [
    "# initialize data frame\n",
    "## aggregate data based on `date` and `group`\n",
    "dates_groups = orders_clean[['date', 'group']].drop_duplicates()\n",
    "\n",
    "# aggregate and count parameters in daily orders from both groups\n",
    "cum_orders = (dates_groups\n",
    "             .apply(lambda df: orders_clean\n",
    "                               .loc[np.logical_and(orders_clean['date'] <= df['date'],\n",
    "                                                   orders_clean['group'] == df['group'])]\n",
    "                               .agg({'date' : 'max',\n",
    "                                     'group' : 'max',\n",
    "                                     'transactionId' : 'nunique',\n",
    "                                     'visitorId' : 'nunique',\n",
    "                                     'revenue' : 'sum'})\n",
    "                                ,axis=1\n",
    "                   )\n",
    "             .sort_values(by=['date','group'])\n",
    "            )\n",
    "\n",
    "                                                          \n",
    "cum_orders"
   ]
  },
  {
   "cell_type": "code",
   "execution_count": 25,
   "id": "53fdab3c-b8ae-4dba-9de5-5163500cbbfb",
   "metadata": {},
   "outputs": [
    {
     "ename": "SpecificationError",
     "evalue": "Column(s) ['visitors'] do not exist",
     "output_type": "error",
     "traceback": [
      "\u001b[0;31m---------------------------------------------------------------------------\u001b[0m",
      "\u001b[0;31mSpecificationError\u001b[0m                        Traceback (most recent call last)",
      "\u001b[0;32m/tmp/ipykernel_67/146383104.py\u001b[0m in \u001b[0;36m<module>\u001b[0;34m\u001b[0m\n\u001b[1;32m      1\u001b[0m \u001b[0;31m# aggregate and count cumulative visitors by date and group\u001b[0m\u001b[0;34m\u001b[0m\u001b[0;34m\u001b[0m\u001b[0;34m\u001b[0m\u001b[0m\n\u001b[0;32m----> 2\u001b[0;31m cum_visitors = (dates_groups\n\u001b[0m\u001b[1;32m      3\u001b[0m                .apply(lambda df: visitors\n\u001b[1;32m      4\u001b[0m                                  .loc[np.logical_and(visitors['date']<=df['date'],\n\u001b[1;32m      5\u001b[0m                                                      visitors['group']==df['group'])]\n",
      "\u001b[0;32m/opt/conda/lib/python3.9/site-packages/pandas/core/frame.py\u001b[0m in \u001b[0;36mapply\u001b[0;34m(self, func, axis, raw, result_type, args, **kwds)\u001b[0m\n\u001b[1;32m   7766\u001b[0m             \u001b[0mkwds\u001b[0m\u001b[0;34m=\u001b[0m\u001b[0mkwds\u001b[0m\u001b[0;34m,\u001b[0m\u001b[0;34m\u001b[0m\u001b[0;34m\u001b[0m\u001b[0m\n\u001b[1;32m   7767\u001b[0m         )\n\u001b[0;32m-> 7768\u001b[0;31m         \u001b[0;32mreturn\u001b[0m \u001b[0mop\u001b[0m\u001b[0;34m.\u001b[0m\u001b[0mget_result\u001b[0m\u001b[0;34m(\u001b[0m\u001b[0;34m)\u001b[0m\u001b[0;34m\u001b[0m\u001b[0;34m\u001b[0m\u001b[0m\n\u001b[0m\u001b[1;32m   7769\u001b[0m \u001b[0;34m\u001b[0m\u001b[0m\n\u001b[1;32m   7770\u001b[0m     \u001b[0;32mdef\u001b[0m \u001b[0mapplymap\u001b[0m\u001b[0;34m(\u001b[0m\u001b[0mself\u001b[0m\u001b[0;34m,\u001b[0m \u001b[0mfunc\u001b[0m\u001b[0;34m,\u001b[0m \u001b[0mna_action\u001b[0m\u001b[0;34m:\u001b[0m \u001b[0mOptional\u001b[0m\u001b[0;34m[\u001b[0m\u001b[0mstr\u001b[0m\u001b[0;34m]\u001b[0m \u001b[0;34m=\u001b[0m \u001b[0;32mNone\u001b[0m\u001b[0;34m)\u001b[0m \u001b[0;34m->\u001b[0m \u001b[0mDataFrame\u001b[0m\u001b[0;34m:\u001b[0m\u001b[0;34m\u001b[0m\u001b[0;34m\u001b[0m\u001b[0m\n",
      "\u001b[0;32m/opt/conda/lib/python3.9/site-packages/pandas/core/apply.py\u001b[0m in \u001b[0;36mget_result\u001b[0;34m(self)\u001b[0m\n\u001b[1;32m    183\u001b[0m             \u001b[0;32mreturn\u001b[0m \u001b[0mself\u001b[0m\u001b[0;34m.\u001b[0m\u001b[0mapply_raw\u001b[0m\u001b[0;34m(\u001b[0m\u001b[0;34m)\u001b[0m\u001b[0;34m\u001b[0m\u001b[0;34m\u001b[0m\u001b[0m\n\u001b[1;32m    184\u001b[0m \u001b[0;34m\u001b[0m\u001b[0m\n\u001b[0;32m--> 185\u001b[0;31m         \u001b[0;32mreturn\u001b[0m \u001b[0mself\u001b[0m\u001b[0;34m.\u001b[0m\u001b[0mapply_standard\u001b[0m\u001b[0;34m(\u001b[0m\u001b[0;34m)\u001b[0m\u001b[0;34m\u001b[0m\u001b[0;34m\u001b[0m\u001b[0m\n\u001b[0m\u001b[1;32m    186\u001b[0m \u001b[0;34m\u001b[0m\u001b[0m\n\u001b[1;32m    187\u001b[0m     \u001b[0;32mdef\u001b[0m \u001b[0mapply_empty_result\u001b[0m\u001b[0;34m(\u001b[0m\u001b[0mself\u001b[0m\u001b[0;34m)\u001b[0m\u001b[0;34m:\u001b[0m\u001b[0;34m\u001b[0m\u001b[0;34m\u001b[0m\u001b[0m\n",
      "\u001b[0;32m/opt/conda/lib/python3.9/site-packages/pandas/core/apply.py\u001b[0m in \u001b[0;36mapply_standard\u001b[0;34m(self)\u001b[0m\n\u001b[1;32m    274\u001b[0m \u001b[0;34m\u001b[0m\u001b[0m\n\u001b[1;32m    275\u001b[0m     \u001b[0;32mdef\u001b[0m \u001b[0mapply_standard\u001b[0m\u001b[0;34m(\u001b[0m\u001b[0mself\u001b[0m\u001b[0;34m)\u001b[0m\u001b[0;34m:\u001b[0m\u001b[0;34m\u001b[0m\u001b[0;34m\u001b[0m\u001b[0m\n\u001b[0;32m--> 276\u001b[0;31m         \u001b[0mresults\u001b[0m\u001b[0;34m,\u001b[0m \u001b[0mres_index\u001b[0m \u001b[0;34m=\u001b[0m \u001b[0mself\u001b[0m\u001b[0;34m.\u001b[0m\u001b[0mapply_series_generator\u001b[0m\u001b[0;34m(\u001b[0m\u001b[0;34m)\u001b[0m\u001b[0;34m\u001b[0m\u001b[0;34m\u001b[0m\u001b[0m\n\u001b[0m\u001b[1;32m    277\u001b[0m \u001b[0;34m\u001b[0m\u001b[0m\n\u001b[1;32m    278\u001b[0m         \u001b[0;31m# wrap results\u001b[0m\u001b[0;34m\u001b[0m\u001b[0;34m\u001b[0m\u001b[0;34m\u001b[0m\u001b[0m\n",
      "\u001b[0;32m/opt/conda/lib/python3.9/site-packages/pandas/core/apply.py\u001b[0m in \u001b[0;36mapply_series_generator\u001b[0;34m(self)\u001b[0m\n\u001b[1;32m    288\u001b[0m             \u001b[0;32mfor\u001b[0m \u001b[0mi\u001b[0m\u001b[0;34m,\u001b[0m \u001b[0mv\u001b[0m \u001b[0;32min\u001b[0m \u001b[0menumerate\u001b[0m\u001b[0;34m(\u001b[0m\u001b[0mseries_gen\u001b[0m\u001b[0;34m)\u001b[0m\u001b[0;34m:\u001b[0m\u001b[0;34m\u001b[0m\u001b[0;34m\u001b[0m\u001b[0m\n\u001b[1;32m    289\u001b[0m                 \u001b[0;31m# ignore SettingWithCopy here in case the user mutates\u001b[0m\u001b[0;34m\u001b[0m\u001b[0;34m\u001b[0m\u001b[0;34m\u001b[0m\u001b[0m\n\u001b[0;32m--> 290\u001b[0;31m                 \u001b[0mresults\u001b[0m\u001b[0;34m[\u001b[0m\u001b[0mi\u001b[0m\u001b[0;34m]\u001b[0m \u001b[0;34m=\u001b[0m \u001b[0mself\u001b[0m\u001b[0;34m.\u001b[0m\u001b[0mf\u001b[0m\u001b[0;34m(\u001b[0m\u001b[0mv\u001b[0m\u001b[0;34m)\u001b[0m\u001b[0;34m\u001b[0m\u001b[0;34m\u001b[0m\u001b[0m\n\u001b[0m\u001b[1;32m    291\u001b[0m                 \u001b[0;32mif\u001b[0m \u001b[0misinstance\u001b[0m\u001b[0;34m(\u001b[0m\u001b[0mresults\u001b[0m\u001b[0;34m[\u001b[0m\u001b[0mi\u001b[0m\u001b[0;34m]\u001b[0m\u001b[0;34m,\u001b[0m \u001b[0mABCSeries\u001b[0m\u001b[0;34m)\u001b[0m\u001b[0;34m:\u001b[0m\u001b[0;34m\u001b[0m\u001b[0;34m\u001b[0m\u001b[0m\n\u001b[1;32m    292\u001b[0m                     \u001b[0;31m# If we have a view on v, we need to make a copy because\u001b[0m\u001b[0;34m\u001b[0m\u001b[0;34m\u001b[0m\u001b[0;34m\u001b[0m\u001b[0m\n",
      "\u001b[0;32m/tmp/ipykernel_67/146383104.py\u001b[0m in \u001b[0;36m<lambda>\u001b[0;34m(df)\u001b[0m\n\u001b[1;32m      1\u001b[0m \u001b[0;31m# aggregate and count cumulative visitors by date and group\u001b[0m\u001b[0;34m\u001b[0m\u001b[0;34m\u001b[0m\u001b[0;34m\u001b[0m\u001b[0m\n\u001b[1;32m      2\u001b[0m cum_visitors = (dates_groups\n\u001b[0;32m----> 3\u001b[0;31m                .apply(lambda df: visitors\n\u001b[0m\u001b[1;32m      4\u001b[0m                                  .loc[np.logical_and(visitors['date']<=df['date'],\n\u001b[1;32m      5\u001b[0m                                                      visitors['group']==df['group'])]\n",
      "\u001b[0;32m/opt/conda/lib/python3.9/site-packages/pandas/core/frame.py\u001b[0m in \u001b[0;36maggregate\u001b[0;34m(self, func, axis, *args, **kwargs)\u001b[0m\n\u001b[1;32m   7576\u001b[0m         \u001b[0mresult\u001b[0m \u001b[0;34m=\u001b[0m \u001b[0;32mNone\u001b[0m\u001b[0;34m\u001b[0m\u001b[0;34m\u001b[0m\u001b[0m\n\u001b[1;32m   7577\u001b[0m         \u001b[0;32mtry\u001b[0m\u001b[0;34m:\u001b[0m\u001b[0;34m\u001b[0m\u001b[0;34m\u001b[0m\u001b[0m\n\u001b[0;32m-> 7578\u001b[0;31m             \u001b[0mresult\u001b[0m\u001b[0;34m,\u001b[0m \u001b[0mhow\u001b[0m \u001b[0;34m=\u001b[0m \u001b[0mself\u001b[0m\u001b[0;34m.\u001b[0m\u001b[0m_aggregate\u001b[0m\u001b[0;34m(\u001b[0m\u001b[0mfunc\u001b[0m\u001b[0;34m,\u001b[0m \u001b[0maxis\u001b[0m\u001b[0;34m,\u001b[0m \u001b[0;34m*\u001b[0m\u001b[0margs\u001b[0m\u001b[0;34m,\u001b[0m \u001b[0;34m**\u001b[0m\u001b[0mkwargs\u001b[0m\u001b[0;34m)\u001b[0m\u001b[0;34m\u001b[0m\u001b[0;34m\u001b[0m\u001b[0m\n\u001b[0m\u001b[1;32m   7579\u001b[0m         \u001b[0;32mexcept\u001b[0m \u001b[0mTypeError\u001b[0m \u001b[0;32mas\u001b[0m \u001b[0merr\u001b[0m\u001b[0;34m:\u001b[0m\u001b[0;34m\u001b[0m\u001b[0;34m\u001b[0m\u001b[0m\n\u001b[1;32m   7580\u001b[0m             exc = TypeError(\n",
      "\u001b[0;32m/opt/conda/lib/python3.9/site-packages/pandas/core/frame.py\u001b[0m in \u001b[0;36m_aggregate\u001b[0;34m(self, arg, axis, *args, **kwargs)\u001b[0m\n\u001b[1;32m   7607\u001b[0m             \u001b[0mresult\u001b[0m \u001b[0;34m=\u001b[0m \u001b[0mresult\u001b[0m\u001b[0;34m.\u001b[0m\u001b[0mT\u001b[0m \u001b[0;32mif\u001b[0m \u001b[0mresult\u001b[0m \u001b[0;32mis\u001b[0m \u001b[0;32mnot\u001b[0m \u001b[0;32mNone\u001b[0m \u001b[0;32melse\u001b[0m \u001b[0mresult\u001b[0m\u001b[0;34m\u001b[0m\u001b[0;34m\u001b[0m\u001b[0m\n\u001b[1;32m   7608\u001b[0m             \u001b[0;32mreturn\u001b[0m \u001b[0mresult\u001b[0m\u001b[0;34m,\u001b[0m \u001b[0mhow\u001b[0m\u001b[0;34m\u001b[0m\u001b[0;34m\u001b[0m\u001b[0m\n\u001b[0;32m-> 7609\u001b[0;31m         \u001b[0;32mreturn\u001b[0m \u001b[0maggregate\u001b[0m\u001b[0;34m(\u001b[0m\u001b[0mself\u001b[0m\u001b[0;34m,\u001b[0m \u001b[0marg\u001b[0m\u001b[0;34m,\u001b[0m \u001b[0;34m*\u001b[0m\u001b[0margs\u001b[0m\u001b[0;34m,\u001b[0m \u001b[0;34m**\u001b[0m\u001b[0mkwargs\u001b[0m\u001b[0;34m)\u001b[0m\u001b[0;34m\u001b[0m\u001b[0;34m\u001b[0m\u001b[0m\n\u001b[0m\u001b[1;32m   7610\u001b[0m \u001b[0;34m\u001b[0m\u001b[0m\n\u001b[1;32m   7611\u001b[0m     \u001b[0magg\u001b[0m \u001b[0;34m=\u001b[0m \u001b[0maggregate\u001b[0m\u001b[0;34m\u001b[0m\u001b[0;34m\u001b[0m\u001b[0m\n",
      "\u001b[0;32m/opt/conda/lib/python3.9/site-packages/pandas/core/aggregation.py\u001b[0m in \u001b[0;36maggregate\u001b[0;34m(obj, arg, *args, **kwargs)\u001b[0m\n\u001b[1;32m    580\u001b[0m     \u001b[0;32melif\u001b[0m \u001b[0mis_dict_like\u001b[0m\u001b[0;34m(\u001b[0m\u001b[0marg\u001b[0m\u001b[0;34m)\u001b[0m\u001b[0;34m:\u001b[0m\u001b[0;34m\u001b[0m\u001b[0;34m\u001b[0m\u001b[0m\n\u001b[1;32m    581\u001b[0m         \u001b[0marg\u001b[0m \u001b[0;34m=\u001b[0m \u001b[0mcast\u001b[0m\u001b[0;34m(\u001b[0m\u001b[0mAggFuncTypeDict\u001b[0m\u001b[0;34m,\u001b[0m \u001b[0marg\u001b[0m\u001b[0;34m)\u001b[0m\u001b[0;34m\u001b[0m\u001b[0;34m\u001b[0m\u001b[0m\n\u001b[0;32m--> 582\u001b[0;31m         \u001b[0;32mreturn\u001b[0m \u001b[0magg_dict_like\u001b[0m\u001b[0;34m(\u001b[0m\u001b[0mobj\u001b[0m\u001b[0;34m,\u001b[0m \u001b[0marg\u001b[0m\u001b[0;34m,\u001b[0m \u001b[0m_axis\u001b[0m\u001b[0;34m)\u001b[0m\u001b[0;34m,\u001b[0m \u001b[0;32mTrue\u001b[0m\u001b[0;34m\u001b[0m\u001b[0;34m\u001b[0m\u001b[0m\n\u001b[0m\u001b[1;32m    583\u001b[0m     \u001b[0;32melif\u001b[0m \u001b[0mis_list_like\u001b[0m\u001b[0;34m(\u001b[0m\u001b[0marg\u001b[0m\u001b[0;34m)\u001b[0m\u001b[0;34m:\u001b[0m\u001b[0;34m\u001b[0m\u001b[0;34m\u001b[0m\u001b[0m\n\u001b[1;32m    584\u001b[0m         \u001b[0;31m# we require a list, but not an 'str'\u001b[0m\u001b[0;34m\u001b[0m\u001b[0;34m\u001b[0m\u001b[0;34m\u001b[0m\u001b[0m\n",
      "\u001b[0;32m/opt/conda/lib/python3.9/site-packages/pandas/core/aggregation.py\u001b[0m in \u001b[0;36magg_dict_like\u001b[0;34m(obj, arg, _axis)\u001b[0m\n\u001b[1;32m    756\u001b[0m         ) != len(keys):\n\u001b[1;32m    757\u001b[0m             \u001b[0mcols\u001b[0m \u001b[0;34m=\u001b[0m \u001b[0msorted\u001b[0m\u001b[0;34m(\u001b[0m\u001b[0mset\u001b[0m\u001b[0;34m(\u001b[0m\u001b[0mkeys\u001b[0m\u001b[0;34m)\u001b[0m \u001b[0;34m-\u001b[0m \u001b[0mset\u001b[0m\u001b[0;34m(\u001b[0m\u001b[0mselected_obj\u001b[0m\u001b[0;34m.\u001b[0m\u001b[0mcolumns\u001b[0m\u001b[0;34m.\u001b[0m\u001b[0mintersection\u001b[0m\u001b[0;34m(\u001b[0m\u001b[0mkeys\u001b[0m\u001b[0;34m)\u001b[0m\u001b[0;34m)\u001b[0m\u001b[0;34m)\u001b[0m\u001b[0;34m\u001b[0m\u001b[0;34m\u001b[0m\u001b[0m\n\u001b[0;32m--> 758\u001b[0;31m             \u001b[0;32mraise\u001b[0m \u001b[0mSpecificationError\u001b[0m\u001b[0;34m(\u001b[0m\u001b[0;34mf\"Column(s) {cols} do not exist\"\u001b[0m\u001b[0;34m)\u001b[0m\u001b[0;34m\u001b[0m\u001b[0;34m\u001b[0m\u001b[0m\n\u001b[0m\u001b[1;32m    759\u001b[0m \u001b[0;34m\u001b[0m\u001b[0m\n\u001b[1;32m    760\u001b[0m     \u001b[0;32mfrom\u001b[0m \u001b[0mpandas\u001b[0m\u001b[0;34m.\u001b[0m\u001b[0mcore\u001b[0m\u001b[0;34m.\u001b[0m\u001b[0mreshape\u001b[0m\u001b[0;34m.\u001b[0m\u001b[0mconcat\u001b[0m \u001b[0;32mimport\u001b[0m \u001b[0mconcat\u001b[0m\u001b[0;34m\u001b[0m\u001b[0;34m\u001b[0m\u001b[0m\n",
      "\u001b[0;31mSpecificationError\u001b[0m: Column(s) ['visitors'] do not exist"
     ]
    }
   ],
   "source": [
    "# aggregate and count cumulative visitors by date and group\n",
    "cum_visitors = (dates_groups\n",
    "               .apply(lambda df: visitors\n",
    "                                 .loc[np.logical_and(visitors['date']<=df['date'],\n",
    "                                                     visitors['group']==df['group'])]\n",
    "                                 .agg({'date':'max',\n",
    "                                       'group':'max',\n",
    "                                       'visitors':'sum'})\n",
    "                      ,axis=1\n",
    "                     )\n",
    "               .sort_values(by=['date','group'])\n",
    "              )\n",
    "\n",
    "cum_visitors"
   ]
  },
  {
   "cell_type": "code",
   "execution_count": null,
   "id": "5a51f8f6-228b-47d3-b080-2a914cf5d661",
   "metadata": {},
   "outputs": [],
   "source": [
    "# merge `cum_orders` and `cum_vistors`\n",
    "cum_data = cum_orders.merge(cum_visitors, on=['date', 'group'])\n",
    "cum_data.columns = ['date', 'group', 'orders' ,'buyers' , 'revenue', 'visitors']\n",
    "\n",
    "cum_data"
   ]
  },
  {
   "cell_type": "code",
   "execution_count": null,
   "id": "5380f347-6d6c-45c6-9c76-46e70ea6fc1d",
   "metadata": {},
   "outputs": [],
   "source": [
    "# check date range\n",
    "cum_data['date'].describe()"
   ]
  },
  {
   "cell_type": "markdown",
   "id": "15c0676f-bc4f-4456-adfe-f1acc18bc396",
   "metadata": {},
   "source": [
    "**Note:** The A/B test was held for 31 days, during August 2019"
   ]
  },
  {
   "cell_type": "code",
   "execution_count": null,
   "id": "43732a23-eedf-4c95-8441-a3122332290e",
   "metadata": {},
   "outputs": [],
   "source": [
    "# check sample size\n",
    "print('Sample size for group A:',\n",
    "      cum_data[cum_data['group']=='A']['visitors'].sum())\n",
    "print('Sample size for group B:',\n",
    "      cum_data[cum_data['group']=='B']['visitors'].sum())"
   ]
  },
  {
   "cell_type": "markdown",
   "id": "ea63a7b5-3dde-4e48-a0e6-9593bcd06eb8",
   "metadata": {},
   "source": [
    "**Note:** The A/B test was held for 31 days during August 2019"
   ]
  },
  {
   "cell_type": "markdown",
   "id": "25ac87aa-5d2f-4a87-8cba-d37635168d39",
   "metadata": {},
   "source": [
    " "
   ]
  },
  {
   "cell_type": "markdown",
   "id": "30926d66-cd48-49cb-8c3e-35a288d1062c",
   "metadata": {},
   "source": [
    " "
   ]
  },
  {
   "cell_type": "markdown",
   "id": "53a58ff4-25e8-42f9-8898-78a3f5a53cea",
   "metadata": {},
   "source": [
    " "
   ]
  },
  {
   "cell_type": "markdown",
   "id": "46db72a0-faed-4fe6-8606-93962b6dfd55",
   "metadata": {},
   "source": [
    " "
   ]
  },
  {
   "cell_type": "markdown",
   "id": "abfbc2e7-e280-4d97-b032-c3ab32e6d2f1",
   "metadata": {},
   "source": [
    "#### Cumulative Data for Group A"
   ]
  },
  {
   "cell_type": "code",
   "execution_count": null,
   "id": "20b8b917-4d17-4d57-aa94-ce40fb8f6637",
   "metadata": {},
   "outputs": [],
   "source": [
    "# separate `cum_data` group A\n",
    "cum_data_a = cum_data.query(\"group == 'A'\")\n",
    "\n",
    "print('Total rows:', len(cum_data_a))\n",
    "cum_data_a.head()"
   ]
  },
  {
   "cell_type": "markdown",
   "id": "d4caf38b-c0d6-4300-9aa0-b32d3ff97d2d",
   "metadata": {},
   "source": [
    " "
   ]
  },
  {
   "cell_type": "markdown",
   "id": "bbc8553b-f8d6-4fe8-844d-84d142e51cc2",
   "metadata": {},
   "source": [
    " "
   ]
  },
  {
   "cell_type": "markdown",
   "id": "d35da35e-6cb1-4c81-85dc-e509511d658c",
   "metadata": {},
   "source": [
    "#### Cumulative Data for Group B"
   ]
  },
  {
   "cell_type": "code",
   "execution_count": null,
   "id": "258467cc-2177-44c1-80fd-b4df70707e5b",
   "metadata": {},
   "outputs": [],
   "source": [
    "# separate `cum_data` group A\n",
    "cum_data_b = cum_data.query(\"group == 'B'\")\n",
    "\n",
    "print('Total rows:', len(cum_data_b))\n",
    "cum_data_b.head()"
   ]
  },
  {
   "cell_type": "markdown",
   "id": "980299f9-e476-4713-8956-cd638acb6034",
   "metadata": {},
   "source": [
    " "
   ]
  },
  {
   "cell_type": "markdown",
   "id": "e2826c4e-b10f-463c-b84e-79c3eb288232",
   "metadata": {},
   "source": [
    " "
   ]
  },
  {
   "cell_type": "markdown",
   "id": "849ee896-e4fd-4eb5-adc9-00cabd34e292",
   "metadata": {},
   "source": [
    " "
   ]
  },
  {
   "cell_type": "markdown",
   "id": "8b663050-71f7-48cb-a9d9-3efa08d80a63",
   "metadata": {},
   "source": [
    " "
   ]
  },
  {
   "cell_type": "markdown",
   "id": "6adb21b4-9c5e-4c48-bb81-86ff09473fe6",
   "metadata": {},
   "source": [
    "### EDA\n",
    "\n",
    "This section will compare several metrics from the control group (A) and treatment group (B), which are associated with revenue."
   ]
  },
  {
   "cell_type": "markdown",
   "id": "07599447-fa2b-4305-aa17-ee2ef4afe857",
   "metadata": {
    "tags": []
   },
   "source": [
    "#### Cumulative Revenue\n",
    "\n",
    "Comparison of cumulative revenue by the group during August 2019."
   ]
  },
  {
   "cell_type": "code",
   "execution_count": null,
   "id": "e9b8506e-9470-4470-a31e-66c1f5f943f2",
   "metadata": {
    "scrolled": true
   },
   "outputs": [],
   "source": [
    "# plot cumulative revenue by group\n",
    "plt.figure(figsize=(15,5))\n",
    "plt.title('Cumulative Revenue by Group')\n",
    "sns.lineplot(data=cum_data,\n",
    "             x='date',\n",
    "             y='revenue',\n",
    "             hue='group'\n",
    "            );"
   ]
  },
  {
   "cell_type": "code",
   "execution_count": null,
   "id": "39ad75b9-3de0-43dc-b414-666c7d3f3e8d",
   "metadata": {},
   "outputs": [],
   "source": [
    "# generate a function to graph the cumulative difference between both groups\n",
    "\n",
    "def cumulative_difference (control, treatment, variable):\n",
    "    \n",
    "    # merge variable column of group_a and group_b\n",
    "    mergeData = control[['date', variable]].merge(treatment[['date', variable]],\n",
    "                                                   on='date',\n",
    "                                                   how='left')\n",
    "    mergeData.columns = ['date', 'A', 'B']\n",
    "    \n",
    "    # calculate the relative difference\n",
    "    mergeData['rel_diff'] = mergeData['B']/mergeData['A']-1\n",
    "\n",
    "    # plot cumulative revenue by group\n",
    "    plt.figure(figsize=(15,5))\n",
    "    plt.title(f'Relative difference {variable} by group')\n",
    "    sns.lineplot(data=mergeData,\n",
    "                 x='date',\n",
    "                 y='rel_diff',\n",
    "                 color='orange'\n",
    "                )\n",
    "    plt.axhline(y=0, color='r', linestyle='--')\n",
    "    plt.show()"
   ]
  },
  {
   "cell_type": "code",
   "execution_count": null,
   "id": "68e0f0ac-6ad0-4eaa-b4e8-dd89337ef661",
   "metadata": {},
   "outputs": [],
   "source": [
    "# get the cumulative difference of `revenue`\n",
    "cumulative_difference (cum_data_a, cum_data_b, 'revenue')"
   ]
  },
  {
   "cell_type": "markdown",
   "id": "460fd6b9-48c7-4ca5-80cd-7a0ae7f03a09",
   "metadata": {},
   "source": [
    "**FINDING:**<br>\n",
    "- The cumulative revenue of the Blue group (A, control) is consistently lower than the Orange group (B, treatment)\n",
    "- There's a surge in Group B toward the end of the test, followed by a stabilized trend until the test ended\n",
    "- The B group consistently demonstrates better revenue than the A group, and the relative difference tends to grow over time.\n",
    "\n",
    "**INSIGHT:**<br>\n",
    "- The B group generated better revenue than the A group.\n",
    "- If there's enough data to reach the significance level, we may as well stop the test\n",
    "\n",
    "**RECOMMENDATION:**<br>\n",
    "- It's highly advisable to check the anomaly causing the surge in Group B since It may bring bias to the result"
   ]
  },
  {
   "cell_type": "markdown",
   "id": "89a750ec-bb8a-43ba-b689-e63b0ad68779",
   "metadata": {},
   "source": [
    " "
   ]
  },
  {
   "cell_type": "markdown",
   "id": "54d21323-dba5-4fa7-9c74-45859582e1f3",
   "metadata": {},
   "source": [
    " "
   ]
  },
  {
   "cell_type": "markdown",
   "id": "b13d7c6d-ffef-4438-ab0d-c30b7f0e9a52",
   "metadata": {},
   "source": [
    " "
   ]
  },
  {
   "cell_type": "markdown",
   "id": "8a0ca3d5-989d-4b18-8b53-c6fafd117806",
   "metadata": {},
   "source": [
    " "
   ]
  },
  {
   "cell_type": "markdown",
   "id": "0f12f780-fabf-4728-a16e-a5593fa7a126",
   "metadata": {},
   "source": [
    "#### Cumulative Average Order Size\n",
    "- Graph of cumulative average order size by group\n",
    "- Graph of the relative difference in cumulative average order size for group B compared with group"
   ]
  },
  {
   "cell_type": "code",
   "execution_count": null,
   "id": "7215e139-05d6-4d6d-bf9d-16e4506ee1c8",
   "metadata": {},
   "outputs": [],
   "source": [
    "# calculate `order_size`\n",
    "## cum_data\n",
    "cum_data['order_size'] = cum_data['revenue'] / cum_data['orders']\n",
    "\n",
    "cum_data[['date', 'group', 'revenue', 'orders', 'order_size']].head(3)"
   ]
  },
  {
   "cell_type": "code",
   "execution_count": null,
   "id": "e1055cfa-78cd-4ef5-9be7-13131559ff4a",
   "metadata": {},
   "outputs": [],
   "source": [
    "# plot cumulative average order size by group\n",
    "plt.figure(figsize=(15,5))\n",
    "plt.title('Cumulative Average Order Size by Group')\n",
    "sns.lineplot(data=cum_data,\n",
    "             x='date',\n",
    "             y='order_size',\n",
    "             hue='group'\n",
    "            );"
   ]
  },
  {
   "cell_type": "code",
   "execution_count": null,
   "id": "0761b93b-3578-4c0d-8c24-e3e0d84a59a1",
   "metadata": {},
   "outputs": [],
   "source": [
    "# calculate `order_size`\n",
    "## cum_data a\n",
    "cum_data_a['order_size'] = cum_data_a['revenue'] / cum_data_a['orders']\n",
    "\n",
    "## cum_data b\n",
    "cum_data_b['order_size'] = cum_data_b['revenue'] / cum_data_b['orders']"
   ]
  },
  {
   "cell_type": "code",
   "execution_count": null,
   "id": "654ce4e2-831f-4727-8aa6-0cbe0c69e730",
   "metadata": {},
   "outputs": [],
   "source": [
    "# generate the cumulative difference of `order_size`\n",
    "cumulative_difference (cum_data_a, cum_data_b, 'order_size')"
   ]
  },
  {
   "cell_type": "markdown",
   "id": "08ce61d3-123e-4c37-9a75-284681ee5da0",
   "metadata": {},
   "source": [
    "**FINDING:**<br>\n",
    "- The cumulative `order_size` of group A and B fluctuate until the mids month, then group B is consistently higher than group A\n",
    "- There's a surge in group B toward the end of the test, followed by a downtrend until the trial ended\n",
    "- Meanwhile, group A shows a slight uptrend toward the end of the test\n",
    "- Most of  the time, the B group demonstrates better average order size than the A group\n",
    "- Group B ever had a lower average order size than group A in the mids month\n",
    "\n",
    "**INSIGHT:**<br>\n",
    "- The B group generated a better average order size than the A group\n",
    "- However, there's a slightly changing trend toward the end of the test (i.e., the opposite tendencies of both groups). It may indicate stabilization or position-shifting possibilities\n",
    "- If there's enough data to reach the significance level, we may as well stop the test\n",
    "\n",
    "**RECOMMENDATION:**<br>\n",
    "- It's advisable to check the anomaly causing the surge in Group B and keep monitoring whether there are shifting changes from both groups"
   ]
  },
  {
   "cell_type": "markdown",
   "id": "f90a4f10-ffca-4706-a1e5-a5a685ab98dc",
   "metadata": {},
   "source": [
    " "
   ]
  },
  {
   "cell_type": "markdown",
   "id": "dfce7d99-e87f-42e3-af6e-161b680d2112",
   "metadata": {},
   "source": [
    " "
   ]
  },
  {
   "cell_type": "markdown",
   "id": "a08f104a-0608-46e8-8462-625b90775e66",
   "metadata": {},
   "source": [
    " "
   ]
  },
  {
   "cell_type": "markdown",
   "id": "6fafd14a-7ab0-413e-b290-22f92f7b4615",
   "metadata": {},
   "source": [
    " "
   ]
  },
  {
   "cell_type": "markdown",
   "id": "9d2ab2b6-3649-4156-bace-54aed9525065",
   "metadata": {},
   "source": [
    "#### Conversion Rate\n",
    "\n",
    "- Calculating each group's conversion rate (ratio of orders to the number of visits for each day)\n",
    "- Plotting the daily conversion rates of the two groups and describe the difference"
   ]
  },
  {
   "cell_type": "code",
   "execution_count": null,
   "id": "d23dcba1-5608-4c3a-9bf3-490d4e4bd58d",
   "metadata": {},
   "outputs": [],
   "source": [
    "# calculate conversion rate\n",
    "cum_data['conversion_rate'] = cum_data['orders'] / cum_data['visitors']\n",
    "\n",
    "cum_data[['date', 'group', 'orders', 'visitors', 'conversion_rate']].head(3)"
   ]
  },
  {
   "cell_type": "code",
   "execution_count": null,
   "id": "c1d567a6-6327-46f9-9ebd-540221301fa7",
   "metadata": {},
   "outputs": [],
   "source": [
    "# plot cumulative average order size by group\n",
    "plt.figure(figsize=(15,5))\n",
    "plt.title('Cumulative Conversion Rate by Group')\n",
    "sns.lineplot(data=cum_data,\n",
    "             x='date',\n",
    "             y='conversion_rate',\n",
    "             hue='group'\n",
    "            )\n",
    "plt.show()"
   ]
  },
  {
   "cell_type": "code",
   "execution_count": null,
   "id": "049a149f-dbc1-40bd-b129-bee36345d69e",
   "metadata": {},
   "outputs": [],
   "source": [
    "# calculate conversion rate\n",
    "## cum_data_a\n",
    "cum_data_a['conversion_rate'] = cum_data_a['orders']/cum_data_a['visitors']\n",
    "\n",
    "## cum_data_b\n",
    "cum_data_b['conversion_rate'] = cum_data_b['orders']/cum_data_b['visitors']"
   ]
  },
  {
   "cell_type": "code",
   "execution_count": null,
   "id": "91d434c5-e8db-40d4-bf27-8e6d0727a64d",
   "metadata": {},
   "outputs": [],
   "source": [
    "# plot the relative difference\n",
    "cumulative_difference(cum_data_a, cum_data_b, 'conversion_rate')"
   ]
  },
  {
   "cell_type": "markdown",
   "id": "e3e7145f-19be-4fd6-81f8-03d40cf093ba",
   "metadata": {},
   "source": [
    "**FINDING:**<br>\n",
    "- The cumulative conversion rate of groups A and B fluctuated in the former period, then group B gained a higher conversion rate than group A consistently\n",
    "- Both groups show slight downtrends\n",
    "- The B group has demonstrated a better conversion rate than the A group consistently since the early test\n",
    "\n",
    "**INSIGHT:**<br>\n",
    "- The B group generated a better conversion rate than the A group\n",
    "- If there's enough data to reach the significance level, we may as well stop the test"
   ]
  },
  {
   "cell_type": "markdown",
   "id": "b69b2dad-74e0-4b55-9998-2d37cd4f4ab3",
   "metadata": {},
   "source": [
    " "
   ]
  },
  {
   "cell_type": "markdown",
   "id": "f3875c17-a7b5-438a-ac75-0df17d041fc6",
   "metadata": {},
   "source": [
    " "
   ]
  },
  {
   "cell_type": "markdown",
   "id": "d745297b-4fab-4978-9d32-21a7fbf2cd38",
   "metadata": {},
   "source": [
    " "
   ]
  },
  {
   "cell_type": "markdown",
   "id": "768d44bf-ff48-4d5d-920c-51389ed4474d",
   "metadata": {},
   "source": [
    " "
   ]
  },
  {
   "cell_type": "markdown",
   "id": "a1467da0-dfe2-4b2e-a21a-9bd7ff93bda7",
   "metadata": {},
   "source": [
    "#### Number of Orders per User\n",
    "\n",
    "- Plotting a scatter chart of the number of orders per user\n",
    "- Calculating the 95th and 99th percentiles for the number of orders per user\n",
    "- Defining the point at which a data point becomes an anomaly."
   ]
  },
  {
   "cell_type": "code",
   "execution_count": null,
   "id": "01957bc4-6b13-49de-b3d9-cfedf44938aa",
   "metadata": {},
   "outputs": [],
   "source": [
    "# get the number of orders each user\n",
    "## count orders from each unique `visitorId`\n",
    "\n",
    "n_order_per_user = (orders_clean\n",
    "                    .groupby('visitorId', as_index=False)\n",
    "                    .agg({'transactionId':'nunique','group':'max'})\n",
    "                    .rename(columns={'transactionId':'n_orders'})\n",
    "                   )\n",
    "\n",
    "n_order_per_user.tail()"
   ]
  },
  {
   "cell_type": "code",
   "execution_count": null,
   "id": "b0d48ecf-5caf-49ee-8857-c57901ca9411",
   "metadata": {},
   "outputs": [],
   "source": [
    "# check number of orders in general\n",
    "n_order_per_user['n_orders'].describe()"
   ]
  },
  {
   "cell_type": "code",
   "execution_count": null,
   "id": "ce5e48a2-691b-4e42-b9be-72657db27d42",
   "metadata": {},
   "outputs": [],
   "source": [
    "# check percentiles to detect outliers\n",
    "n_order_per_user['n_orders'].quantile([0.95, 0.99])"
   ]
  },
  {
   "cell_type": "code",
   "execution_count": null,
   "id": "da77109b-21e5-42bc-8780-c65987a91ebb",
   "metadata": {},
   "outputs": [],
   "source": [
    "# plot distribution number of order per user\n",
    "plt.figure(figsize=(4,3))\n",
    "sns.catplot(data=n_order_per_user, y='n_orders', x='group', hue='group', palette=['orange','#9fc5e8'])\n",
    "\n",
    "plt.axhline(y=n_order_per_user['n_orders'].quantile(0.95), color='g', linestyle='--')\n",
    "plt.axhline(y=n_order_per_user['n_orders'].quantile(0.99), color='r', linestyle='--')\n",
    "\n",
    "plt.show()"
   ]
  },
  {
   "cell_type": "markdown",
   "id": "7e1ba931-4f5a-4562-8bf2-2e08da30fcdf",
   "metadata": {},
   "source": [
    "**INSIGHT:**<br>\n",
    "- 95% of the customers (`visitorsId` who make order) create no more than two orders (<1.5 orders)\n",
    "- The majority of customers only make one order\n",
    "- Both groups contain outliers. These outliers can mask the different between two groups\n",
    "\n",
    "**ACTION:**<br>\n",
    "- We will filter `visitorId` who has an abnormal number of orders (>1.5 orders, based on quantile 0.95)\n",
    "- The A/B testing analysis will use raw data vs filtered data and examine whether the outliers influence the result"
   ]
  },
  {
   "cell_type": "code",
   "execution_count": null,
   "id": "8f496de3-1b8a-4f3e-a3b0-665aa8dedf34",
   "metadata": {},
   "outputs": [],
   "source": [
    "# filter outliers\n",
    "usersManyOrders = (n_order_per_user\n",
    "                   .loc[(n_order_per_user['n_orders'] > n_order_per_user['n_orders'].quantile(0.95))]\n",
    "                   .reset_index(drop=True)\n",
    "                  )\n",
    "\n",
    "usersManyOrders.tail()"
   ]
  },
  {
   "cell_type": "code",
   "execution_count": null,
   "id": "78d0fb29-f889-49dc-b335-ae05e4e9b82f",
   "metadata": {},
   "outputs": [],
   "source": [
    "usersManyOrders['n_orders'].describe()"
   ]
  },
  {
   "cell_type": "markdown",
   "id": "4d9db5e4-4ead-43e4-a91f-2380dd7e8b5b",
   "metadata": {
    "tags": []
   },
   "source": [
    "#### Order Prices\n",
    "\n",
    "- Plotting a scatter chart of order prices. \n",
    "- Calculating the 95th and 99th percentiles of order prices. \n",
    "- Defining the point at which a data point becomes an anomaly."
   ]
  },
  {
   "cell_type": "code",
   "execution_count": null,
   "id": "27fc020c-4932-4042-b826-626afc31ac94",
   "metadata": {},
   "outputs": [],
   "source": [
    "# get the overview of `revenue` in general\n",
    "orders_clean['revenue'].describe()"
   ]
  },
  {
   "cell_type": "code",
   "execution_count": null,
   "id": "9a57e68a-a994-4cc7-b3f5-a6d179cb0099",
   "metadata": {},
   "outputs": [],
   "source": [
    "# check the distribution\n",
    "plt.figure(figsize=(8,3))\n",
    "plt.title('Revenue Distribution')\n",
    "sns.histplot(orders_clean[orders_clean['group']=='A']['revenue'], kde=True, label='A')\n",
    "sns.histplot(orders_clean[orders_clean['group']=='B']['revenue'], kde=True, label='B', color='orange')\n",
    "\n",
    "plt.axis([0,800, 0,200])\n",
    "plt.legend()\n",
    "plt.show()"
   ]
  },
  {
   "cell_type": "code",
   "execution_count": null,
   "id": "b0329093-3337-4e7b-8e5f-ca4eb4a747e3",
   "metadata": {},
   "outputs": [],
   "source": [
    "# check percentiles to detect outliers\n",
    "orders_clean['revenue'].quantile([0.95, 0.99])"
   ]
  },
  {
   "cell_type": "code",
   "execution_count": null,
   "id": "578b5f24-ea78-474b-913e-a6972255897a",
   "metadata": {},
   "outputs": [],
   "source": [
    "# plot distribution number of order per user\n",
    "plt.figure(figsize=(4,3))\n",
    "sns.catplot(data=orders_clean, y='revenue', x='group', hue='group', palette=['orange','#9fc5e8'])\n",
    "\n",
    "plt.axhline(y=orders_clean['revenue'].quantile(0.95), color='g', linestyle='--')\n",
    "plt.axhline(y=orders_clean['revenue'].quantile(0.99), color='r', linestyle='--')\n",
    "\n",
    "plt.show()"
   ]
  },
  {
   "cell_type": "markdown",
   "id": "4467f33c-f153-43c9-87ca-97dd566635f2",
   "metadata": {},
   "source": [
    "**FINDING:**<br>\n",
    "- Both revenues from groups A and B seem to have a positively skewed distribution\n",
    "- 95% of revenues were below 428.3 USD\n",
    "- Both groups A and B contains outliers\n",
    "- However, the super-extreme outlier was detected in group B\n",
    "\n",
    "**INSIGHT:**<br>\n",
    "- The surge in cumulative revenue and order size from group B is most likely due to the presence of super-extreme revenue\n",
    "- It can make group B seems to be performing significantly better than group A when it may not be the case\n",
    "\n",
    "**ACTION:**<br>\n",
    "- We will filter revenue from expensive orders (> 428.3 USD, based on quantile 0.95)\n",
    "- The A/B testing analysis will use raw data vs filtered data and examine whether the outliers influence the result"
   ]
  },
  {
   "cell_type": "markdown",
   "id": "c41c1194-aba5-4571-9e73-a9942946095f",
   "metadata": {},
   "source": [
    " "
   ]
  },
  {
   "cell_type": "markdown",
   "id": "ca505b55-f266-43fd-b6a7-877f2a1dd49c",
   "metadata": {},
   "source": [
    " "
   ]
  },
  {
   "cell_type": "markdown",
   "id": "baebdf8b-573c-4fc3-b732-d2a959d23f64",
   "metadata": {},
   "source": [
    " "
   ]
  },
  {
   "cell_type": "markdown",
   "id": "5e580e7a-1cb5-42d3-8957-f5422a8cb6ab",
   "metadata": {},
   "source": [
    " "
   ]
  },
  {
   "cell_type": "code",
   "execution_count": null,
   "id": "cbd8ef22-d34f-44a0-a6b6-c4829a88e565",
   "metadata": {},
   "outputs": [],
   "source": [
    "# filter outliers\n",
    "usersExpensiveOrders = (orders_clean\n",
    "                        .loc[(orders_clean['revenue'] > orders_clean['revenue'].quantile(0.95))]\n",
    "                        .reset_index(drop=True)\n",
    "                       )\n",
    "\n",
    "usersExpensiveOrders.tail()"
   ]
  },
  {
   "cell_type": "code",
   "execution_count": null,
   "id": "49738b86-056e-4b59-bcd3-e43cf410dd8d",
   "metadata": {},
   "outputs": [],
   "source": [
    "usersExpensiveOrders['revenue'].describe()"
   ]
  },
  {
   "cell_type": "markdown",
   "id": "48ef69ee-aabc-41e9-878d-ea3788ce8d75",
   "metadata": {},
   "source": [
    " "
   ]
  },
  {
   "cell_type": "markdown",
   "id": "031e3922-6e32-4bb7-994c-c87e65120be2",
   "metadata": {},
   "source": [
    " "
   ]
  },
  {
   "cell_type": "markdown",
   "id": "502a5153-3c8b-49e8-8b38-45712b96c3cc",
   "metadata": {},
   "source": [
    " "
   ]
  },
  {
   "cell_type": "markdown",
   "id": "17249181-a36f-43f9-a7ac-e830983b2525",
   "metadata": {},
   "source": [
    " "
   ]
  },
  {
   "cell_type": "markdown",
   "id": "e54a8a24-bf11-489c-a977-7736bbfd277d",
   "metadata": {},
   "source": [
    "### Hypotheses Testing\n",
    "\n",
    "This section will test the statistical significance of the difference in conversion rate and average order size between both groups. Before starting the hypotheses test, we will create datasets excluding anomalous users."
   ]
  },
  {
   "cell_type": "markdown",
   "id": "cf11a695-a63f-40ac-b099-28850c58565b",
   "metadata": {
    "tags": []
   },
   "source": [
    "#### Preparation"
   ]
  },
  {
   "cell_type": "markdown",
   "id": "83f827c6-c19e-4942-b2bf-45965ab86074",
   "metadata": {},
   "source": [
    "##### Sample Preparation"
   ]
  },
  {
   "cell_type": "markdown",
   "id": "21c9ebc9-69a1-4439-a84f-ed09f823ce1d",
   "metadata": {},
   "source": [
    "We will take the following steps to transform the variable before conducting the analysis. <br>\n",
    "1. Separates the interest column to be analysed into two variables based on its' groups\n",
    "2. Concatenate the successes and non-successes values (trials-successes) into pd.Series. Use 0 as the non-success values\n",
    "3. Use the pd.Series result as input in statistical analysis"
   ]
  },
  {
   "cell_type": "markdown",
   "id": "c1b66d9a-a216-469b-a422-fa158885d0f3",
   "metadata": {},
   "source": [
    "#####  Anomalous Users\n",
    "\n",
    "We will list the abnormal visitorId to be excluded in the subsequent analysis. "
   ]
  },
  {
   "cell_type": "code",
   "execution_count": null,
   "id": "fcb106d9-e4da-45a6-a1b9-9aad869670a7",
   "metadata": {},
   "outputs": [],
   "source": [
    "# retrieve abnormal n_orders\n",
    "usersManyOrders.tail(2)"
   ]
  },
  {
   "cell_type": "code",
   "execution_count": null,
   "id": "a0185dfe-67c5-4983-b8c4-3d7bc857c79a",
   "metadata": {},
   "outputs": [],
   "source": [
    "# retrieve abnormal revenue\n",
    "usersExpensiveOrders.tail(2)"
   ]
  },
  {
   "cell_type": "code",
   "execution_count": null,
   "id": "739c44b9-dbcb-4513-ac94-c356e59cd16b",
   "metadata": {},
   "outputs": [],
   "source": [
    "# merge abnormal `visitorId`\n",
    "abnormalUsers = pd.concat([usersManyOrders['visitorId'], usersExpensiveOrders['visitorId']]).drop_duplicates()\n",
    "\n",
    "# check the result\n",
    "abnormalUsers.info()"
   ]
  },
  {
   "cell_type": "code",
   "execution_count": null,
   "id": "6c01d8a6-e8e8-4027-8721-950b2c394fd7",
   "metadata": {},
   "outputs": [],
   "source": [
    "# exclude abnormal visitors from `orders_clean`\n",
    "orders_no_outliers = (orders_clean\n",
    "                      .loc[np.logical_not(orders_clean['visitorId'].isin(abnormalUsers))]\n",
    "                     )\n",
    "\n",
    "print('Total rows orders_clean:', len(orders_clean))\n",
    "print('Total rows orders_no_outliers:', len(orders_no_outliers))\n",
    "print('Removed rows:', len(orders_clean)-len(orders_no_outliers))\n",
    "\n",
    "orders_no_outliers.head()"
   ]
  },
  {
   "cell_type": "markdown",
   "id": "32114000-0bac-4517-85b2-2a5471534e78",
   "metadata": {
    "tags": []
   },
   "source": [
    "##### Function: Statistical Test\n",
    "\n",
    "The statistical analysis will be carried out in two stages.<br>\n",
    "1. Normality test<br>\n",
    "We will use a two-proportion Z-test for boolean data and a Shapiro-Wilk test for comparing two means for continuous variable\n",
    "2. Distribution test <br>\n",
    "To know whether the A/B testing result is significantly different, we will use a t-test if the distribution of both samples is normal/bell-shaped or use the Mann-Whitney U test if the distributions are not normal.\n",
    "\n",
    "The Test will be applied to test the conversion rate and average order size. "
   ]
  },
  {
   "cell_type": "code",
   "execution_count": null,
   "id": "89bafc7d-c08c-423f-b3e8-50580470ca78",
   "metadata": {},
   "outputs": [],
   "source": [
    "# normality test\n",
    "## two-proportion z-test : test the equality of proportions\n",
    "\n",
    "def proportion_test (control, treatment, alpha):\n",
    "    \n",
    "    successes = [control.sum(), treatment.sum()]\n",
    "    trials = [len(control), len(treatment)]\n",
    "\n",
    "    # success proportion Group A and Group B\n",
    "    pA = successes[0]/trials[0]\n",
    "    pB = successes[1]/trials[1]\n",
    "\n",
    "    # success proportion in the combined groups\n",
    "    p_combined = (successes[0]+successes[1]) / (trials[0]+trials[1])\n",
    "\n",
    "    # difference between two groups proportion\n",
    "    difference = pA - pB\n",
    "\n",
    "    # calculate how far from 0 our statistic turned out to be\n",
    "    ## standard deviations of the standard normal distribution\n",
    "    z_value = difference/mth.sqrt(p_combined*(1 - p_combined) * (1/trials[0] + 1/trials[1]))\n",
    "\n",
    "    # setting up the standard normal distribution (mean 0, standard deviation 1)\n",
    "    distr = st.norm(0,1)\n",
    "    p_value = (1 - distr.cdf(abs(z_value))) * 2\n",
    "\n",
    "    print('p-value: ', p_value)\n",
    "\n",
    "    if (p_value < alpha):\n",
    "        print(\"Rejecting the null hypothesis: there is a significant difference between the proportions\")\n",
    "    else:\n",
    "        print(\"Failed to reject the null hypothesis: there is no reason to consider the proportions different\")"
   ]
  },
  {
   "cell_type": "code",
   "execution_count": null,
   "id": "ecc9c7e3-cead-46fd-88ac-fcb095d4c271",
   "metadata": {},
   "outputs": [],
   "source": [
    "# normality test\n",
    "## shapiro-wilk test: whether a continuous variable follows a normal distribution\n",
    "\n",
    "def shapiro_wilk_test (control, treatment, alpha):\n",
    "    \n",
    "    results_control = st.shapiro(control)\n",
    "    pvalue_control = results_control[1]\n",
    "\n",
    "    results_treatment = st.shapiro(treatment)\n",
    "    pvalue_treatment = results_treatment[1]\n",
    "    #-------------------------------------------------------------------------------------\n",
    "    print('p-value control: ', pvalue_control)\n",
    "\n",
    "    if (pvalue_control < alpha):\n",
    "        print(\"Control : Reject H0, the distribution is not normal\")\n",
    "    else:\n",
    "        print(\"Control : Accept H0, the distribution seems to be normal\") \n",
    "    #-------------------------------------------------------------------------------------------------\n",
    "    print('p-value treatment: ', pvalue_treatment)\n",
    "\n",
    "    if (pvalue_treatment < alpha):\n",
    "        print(\"Treatment : Reject H0, the distribution is not normal\")\n",
    "    else:\n",
    "        print(\"Treatment : Accept H0, the distribution seems to be normal\") "
   ]
  },
  {
   "cell_type": "code",
   "execution_count": null,
   "id": "49dc9812-e67d-4919-a0a9-23027acd5e57",
   "metadata": {},
   "outputs": [],
   "source": [
    "# A/B test\n",
    "## different test for two independet samples\n",
    "## normal distribution\n",
    "\n",
    "def mannwhitneyu_test (control, treatment, alpha):    \n",
    "\n",
    "    mannwhitneyu = st.mannwhitneyu(control, treatment)[1]\n",
    "\n",
    "    if mannwhitneyu < alpha :\n",
    "        print('p-value:', mannwhitneyu)\n",
    "        print('Reject H0: The distribution of the two groups is different significantly')\n",
    "        print(f'relative difference: {treatment.mean()/control.mean()-1:.3f}')\n",
    "    else:\n",
    "        print('p-value:', mannwhitneyu)\n",
    "        print('Accept H0: The distributions of the two groups are equal')\n",
    "        print(f'relative difference: {treatment.mean()/control.mean()-1:.3f}')"
   ]
  },
  {
   "cell_type": "code",
   "execution_count": null,
   "id": "c9e13bbe-a5ea-4cef-9f12-53bcc33f0dc5",
   "metadata": {},
   "outputs": [],
   "source": [
    "# A/B test\n",
    "## different test for two independet samples\n",
    "## non-normal distribution\n",
    "\n",
    "def t_test_ind(control, treatment, alpha):\n",
    "       \n",
    "    t_stat, p_val = st.ttest_ind(control, treatment)\n",
    "    \n",
    "    if p_val < alpha:\n",
    "        print('p-value:', p_val)\n",
    "        print('Reject H0: The means of the two groups is different significantly')\n",
    "    else:\n",
    "        print('p-value:', p_val)\n",
    "        print('Accept H0: The means of the two groups is equal')"
   ]
  },
  {
   "cell_type": "markdown",
   "id": "90964f5e-cdda-4dfe-af84-361cba954a76",
   "metadata": {},
   "source": [
    " "
   ]
  },
  {
   "cell_type": "markdown",
   "id": "e26d8fd0-de74-46a3-adac-d1564d723709",
   "metadata": {},
   "source": [
    " "
   ]
  },
  {
   "cell_type": "markdown",
   "id": "38bafc74-a1ce-4ed4-a0c5-7fa7e34f2046",
   "metadata": {
    "tags": []
   },
   "source": [
    "#### Conversion Rate\n",
    "\n",
    "1. Comparing the conversion rate between the groups using the raw data. \n",
    "2. Comparing the conversion rate between the groups using the filtered data"
   ]
  },
  {
   "cell_type": "markdown",
   "id": "ebbddab6-ce2f-4467-8a31-101366ab0bc3",
   "metadata": {},
   "source": [
    "##### Raw Data"
   ]
  },
  {
   "cell_type": "code",
   "execution_count": null,
   "id": "0771df62-3b2e-48cc-8bab-faa9ff9fc55a",
   "metadata": {},
   "outputs": [],
   "source": [
    "# Seperate `orders` from group A\n",
    "ordersByUsersA = (orders_clean[orders_clean['group']=='A']\n",
    "                  .groupby('visitorId', as_index=False)\n",
    "                  .agg({'transactionId' : pd.Series.nunique})\n",
    "                 )\n",
    "\n",
    "ordersByUsersA.columns = ['visitorId', 'orders']\n",
    "\n",
    "#----------------------------------------------------------------------------------\n",
    "# Seperate `orders` from group B\n",
    "ordersByUsersB = (orders_clean[orders_clean['group']=='B']\n",
    "                  .groupby('visitorId', as_index=False)\n",
    "                  .agg({'transactionId' : pd.Series.nunique})\n",
    "                 )\n",
    "\n",
    "ordersByUsersB.columns = ['visitorId', 'orders']"
   ]
  },
  {
   "cell_type": "code",
   "execution_count": null,
   "id": "99e804e0-e215-46ba-bc0b-8969c780bc8d",
   "metadata": {},
   "outputs": [],
   "source": [
    "# create sample for group A and group B\n",
    "## Group A\n",
    "sampleA = (pd.concat([ordersByUsersA['orders'],\n",
    "                      pd.Series(0,\n",
    "                                index=np.arange(visitors[visitors['group']=='A']['visitors'].sum()\n",
    "                                                -len(ordersByUsersA['orders'])\n",
    "                                               ),\n",
    "                                name='orders'\n",
    "                               )\n",
    "                     ], axis=0\n",
    "                    )\n",
    "          )\n",
    "\n",
    "## Group B\n",
    "sampleB = (pd.concat([ordersByUsersB['orders'],\n",
    "                      pd.Series(0,\n",
    "                                index=np.arange(visitors[visitors['group']=='B']['visitors'].sum()\n",
    "                                                -len(ordersByUsersB['orders'])\n",
    "                                               ),\n",
    "                                name='orders'\n",
    "                               )\n",
    "                     ], axis=0)\n",
    "          )"
   ]
  },
  {
   "cell_type": "code",
   "execution_count": null,
   "id": "55dbab32-2193-4248-9722-01710527149d",
   "metadata": {},
   "outputs": [],
   "source": [
    "# apply the two-proportion Z-test\n",
    "proportion_test(sampleA, sampleB, 0.05)"
   ]
  },
  {
   "cell_type": "markdown",
   "id": "52ab75da-c7a6-4887-9110-f7951d9509cd",
   "metadata": {},
   "source": [
    "**Note:** We will use the Mann-Whitney U test since the distribution of samples are not normal"
   ]
  },
  {
   "cell_type": "code",
   "execution_count": null,
   "id": "b0e794a5-4420-4982-baec-1f64b71285ae",
   "metadata": {},
   "outputs": [],
   "source": [
    "# apply mannwhitneyu test\n",
    "mannwhitneyu_test(sampleA, sampleB, 0.05)"
   ]
  },
  {
   "cell_type": "markdown",
   "id": "351d5018-de55-4e47-b8e7-ca671bdb8f0e",
   "metadata": {},
   "source": [
    " "
   ]
  },
  {
   "cell_type": "markdown",
   "id": "3fc09fdf-05d7-4ff6-bc72-cf13fd7276d8",
   "metadata": {},
   "source": [
    " "
   ]
  },
  {
   "cell_type": "markdown",
   "id": "fc968318-86b4-4e56-b079-9e8ef44714fa",
   "metadata": {},
   "source": [
    " "
   ]
  },
  {
   "cell_type": "markdown",
   "id": "9b8b9a6a-4174-4cad-b30b-e79dcf3ca827",
   "metadata": {},
   "source": [
    "##### Filtered Data"
   ]
  },
  {
   "cell_type": "code",
   "execution_count": null,
   "id": "466d0a97-930b-426e-8a02-843cfc2ca10b",
   "metadata": {},
   "outputs": [],
   "source": [
    "# Seperate `orders_no_outliers` from group A\n",
    "ordersFilteredA = (orders_no_outliers[orders_no_outliers['group']=='A']\n",
    "                  .groupby('visitorId', as_index=False)\n",
    "                  .agg({'transactionId' : pd.Series.nunique})\n",
    "                 )\n",
    "\n",
    "ordersFilteredA.columns = ['visitorId', 'orders']\n",
    "\n",
    "#----------------------------------------------------------------------------------\n",
    "# Seperate `orders_no_outliers` from group B\n",
    "ordersFilteredB = (orders_no_outliers[orders_no_outliers['group']=='B']\n",
    "                  .groupby('visitorId', as_index=False)\n",
    "                  .agg({'transactionId' : pd.Series.nunique})\n",
    "                 )\n",
    "\n",
    "ordersFilteredB.columns = ['visitorId', 'orders']"
   ]
  },
  {
   "cell_type": "code",
   "execution_count": null,
   "id": "76e2dee8-0899-4fbf-ac6a-ae120d2f8b91",
   "metadata": {},
   "outputs": [],
   "source": [
    "# create sample for filtered group A and group B\n",
    "## filtered Group A\n",
    "sampleFilteredA = (pd.concat([ordersFilteredA['orders'],\n",
    "                      pd.Series(0,\n",
    "                                index=np.arange(visitors[visitors['group']=='A']['visitors'].sum()\n",
    "                                                -len(ordersFilteredA['orders'])\n",
    "                                               ),\n",
    "                                name='orders'\n",
    "                               )\n",
    "                     ], axis=0\n",
    "                    )\n",
    "          )\n",
    "\n",
    "## filtered Group B\n",
    "sampleFilteredB = (pd.concat([ordersFilteredB['orders'],\n",
    "                      pd.Series(0,\n",
    "                                index=np.arange(visitors[visitors['group']=='B']['visitors'].sum()\n",
    "                                                -len(ordersFilteredB['orders'])\n",
    "                                               ),\n",
    "                                name='orders'\n",
    "                               )\n",
    "                     ], axis=0)\n",
    "          )"
   ]
  },
  {
   "cell_type": "code",
   "execution_count": null,
   "id": "6c7c52d6-85ee-49c0-9938-7ef5902d99a9",
   "metadata": {},
   "outputs": [],
   "source": [
    "# apply the two-proportion Z-test\n",
    "proportion_test(sampleFilteredA, sampleFilteredB, 0.05)"
   ]
  },
  {
   "cell_type": "code",
   "execution_count": null,
   "id": "8434abc1-2d6f-469c-b4b1-ea0c61038597",
   "metadata": {},
   "outputs": [],
   "source": [
    "# apply mannwhitneyu test\n",
    "mannwhitneyu_test(sampleFilteredA, sampleFilteredB, 0.05)"
   ]
  },
  {
   "cell_type": "markdown",
   "id": "1335be9b-9652-4f31-9627-eb1ca1e8033a",
   "metadata": {},
   "source": [
    "**INSIGHT**<br>\n",
    "- From the raw dataset analysis, we found that the conversion rates of groups A and B are significantly different, where the conversion rate in group B is 15.2% higher than group A \n",
    "- The filtered dataset analysis has the same result as the raw dataset analysis.\n",
    "- However, the relative difference in the conversion rate of group B is only 18% better than group A"
   ]
  },
  {
   "cell_type": "markdown",
   "id": "04591875-3007-4bef-9a03-1641338e28c7",
   "metadata": {},
   "source": [
    " "
   ]
  },
  {
   "cell_type": "markdown",
   "id": "fbb8ed35-ceb3-4c87-880d-28f69d57830b",
   "metadata": {},
   "source": [
    " "
   ]
  },
  {
   "cell_type": "markdown",
   "id": "92f493a0-52a8-4795-a38f-3a21880d6b08",
   "metadata": {},
   "source": [
    " "
   ]
  },
  {
   "cell_type": "markdown",
   "id": "804ba7da-194c-414a-9ea5-dd0e49dbc76a",
   "metadata": {},
   "source": [
    "#### Average Order Size\n",
    "\n",
    "1. Comparing the average order size between the groups using the raw data\n",
    "2. Comparing the average order size between the groups using the filtered data"
   ]
  },
  {
   "cell_type": "markdown",
   "id": "ef1f4491-fc29-45e6-93bc-a7d3b0a7791a",
   "metadata": {},
   "source": [
    "##### Raw Data"
   ]
  },
  {
   "cell_type": "code",
   "execution_count": null,
   "id": "12659be0-0e2a-45a9-9f7b-2d14ab59039e",
   "metadata": {},
   "outputs": [],
   "source": [
    "# Seperate `orders` from group A\n",
    "revenueUsersA = (orders_clean[orders_clean['group']=='A']\n",
    "                  .groupby('visitorId', as_index=False)\n",
    "                  .agg({'revenue' : 'sum'})\n",
    "                 )\n",
    "\n",
    "revenueUsersA.columns = ['visitorId', 'revenue']\n",
    "\n",
    "#----------------------------------------------------------------------------------\n",
    "# Seperate `orders` from group B\n",
    "revenueUsersB = (orders_clean[orders_clean['group']=='B']\n",
    "                  .groupby('visitorId', as_index=False)\n",
    "                  .agg({'revenue' : 'sum'})\n",
    "                 )\n",
    "\n",
    "revenueUsersB.columns = ['visitorId', 'revenue']"
   ]
  },
  {
   "cell_type": "markdown",
   "id": "a1c259de",
   "metadata": {},
   "source": [
    "<div class=\"alert alert-block alert-warning\">\n",
    "<b>Reviewer's comment v1</b> <a class=\"tocSkip\"></a>\n",
    "    \n",
    "You do not have to aggregate the `revenue` before calculating the statistical significance for the **average order size**. <br> Aggregating by `visitor_id` loses that level of detailed required by the statistical model to check the actual revenue distribution.\n",
    "\n",
    "Using the revenue without aggregation is enough to provide the required solution.\n",
    "</div>"
   ]
  },
  {
   "cell_type": "code",
   "execution_count": null,
   "id": "12c7e715-6795-4904-9b40-08df32a6c109",
   "metadata": {},
   "outputs": [],
   "source": [
    "print('Total rows revenue A:', len(revenueUsersA))\n",
    "print(revenueUsersA.head())\n",
    "\n",
    "print('Total rows revenue B:', len(revenueUsersB))\n",
    "print(revenueUsersB.head())"
   ]
  },
  {
   "cell_type": "code",
   "execution_count": null,
   "id": "ea0d1627-c341-4c79-a23b-d367e92b2ca6",
   "metadata": {},
   "outputs": [],
   "source": [
    "# create sample for group A and group B\n",
    "## Group A\n",
    "sampleRevenueA = (pd.concat([revenueUsersA['revenue'],\n",
    "                      pd.Series(0,\n",
    "                                index=np.arange(visitors[visitors['group']=='A']['visitors'].sum()\n",
    "                                                -len(revenueUsersA['revenue'])\n",
    "                                               ),\n",
    "                                name='revenue'\n",
    "                               )\n",
    "                     ], axis=0\n",
    "                    )\n",
    "          )\n",
    "\n",
    "## Group B\n",
    "sampleRevenueB = (pd.concat([revenueUsersB['revenue'],\n",
    "                      pd.Series(0,\n",
    "                                index=np.arange(visitors[visitors['group']=='B']['visitors'].sum()\n",
    "                                                -len(revenueUsersB['revenue'])\n",
    "                                               ),\n",
    "                                name='revenue'\n",
    "                               )\n",
    "                     ], axis=0)\n",
    "          )"
   ]
  },
  {
   "cell_type": "code",
   "execution_count": null,
   "id": "ad45c32a-5fa3-4ab7-aec6-55f5d71b850c",
   "metadata": {},
   "outputs": [],
   "source": [
    "# apply the normality test\n",
    "shapiro_wilk_test(sampleRevenueA, sampleRevenueB, 0.05)"
   ]
  },
  {
   "cell_type": "markdown",
   "id": "a05654f7-2a62-4607-875b-84e685f1f968",
   "metadata": {},
   "source": [
    "**Note:** We will use the Mann-Whitney U test since the distribution of samples are not normal"
   ]
  },
  {
   "cell_type": "code",
   "execution_count": null,
   "id": "92424de2-f84a-4acf-a66e-34328d3e4e9f",
   "metadata": {},
   "outputs": [],
   "source": [
    "# apply the Mann Whitney U test\n",
    "mannwhitneyu_test(sampleRevenueA, sampleRevenueB, 0.05)"
   ]
  },
  {
   "cell_type": "markdown",
   "id": "b30dc1c7-3ba7-4f6e-a22c-5ddd3131c96f",
   "metadata": {},
   "source": [
    " "
   ]
  },
  {
   "cell_type": "markdown",
   "id": "30538f48-49cb-4b9d-972f-fedcdf7a9d95",
   "metadata": {},
   "source": [
    " "
   ]
  },
  {
   "cell_type": "markdown",
   "id": "914828fe-fa77-4749-b96a-6cc6a1a0f2ee",
   "metadata": {},
   "source": [
    "##### Filtered Data"
   ]
  },
  {
   "cell_type": "code",
   "execution_count": null,
   "id": "c68c97fd-2c4a-4b7c-870d-63b837cfdd09",
   "metadata": {},
   "outputs": [],
   "source": [
    "# Seperate `orders_no_outliers` from group A\n",
    "filteredRevenueA = (orders_no_outliers[orders_no_outliers['group']=='A']\n",
    "                    .groupby('visitorId', as_index=False)\n",
    "                    .agg({'revenue' : 'sum'})\n",
    "                    )\n",
    "\n",
    "filteredRevenueA.columns = ['visitorId', 'revenue']\n",
    "\n",
    "#----------------------------------------------------------------------------------\n",
    "# Seperate `orders_no_outliers` from group B\n",
    "filteredRevenueB = (orders_no_outliers[orders_no_outliers['group']=='B']\n",
    "                    .groupby('visitorId', as_index=False)\n",
    "                    .agg({'revenue' : 'sum'})\n",
    "                   )\n",
    "\n",
    "filteredRevenueB.columns = ['visitorI', 'revenue']"
   ]
  },
  {
   "cell_type": "markdown",
   "id": "a9d13266",
   "metadata": {},
   "source": [
    "<div class=\"alert alert-block alert-warning\">\n",
    "<b>Reviewer's comment v1</b> <a class=\"tocSkip\"></a>\n",
    "    \n",
    "You do not have to aggregate the `revenue` before calculating the statistical significance for the **average order size**. <br> Aggregating by `visitor_id` loses that level of detailed required by the statistical model to check the actual revenue distribution.\n",
    "\n",
    "Using the revenue without aggregation is enough to provide the required solution.\n",
    "</div>"
   ]
  },
  {
   "cell_type": "code",
   "execution_count": null,
   "id": "07ceb363-beb3-4557-aa44-2d1dbcca682d",
   "metadata": {},
   "outputs": [],
   "source": [
    "print('Total rows filtered revenue A:', len(filteredRevenueA))\n",
    "print(filteredRevenueA.head())\n",
    "\n",
    "print('Total rows filtered revenue B:', len(filteredRevenueB))\n",
    "print(filteredRevenueB.head())"
   ]
  },
  {
   "cell_type": "code",
   "execution_count": null,
   "id": "cbe1edf2-1ca6-4e7a-8454-6e37721f978a",
   "metadata": {},
   "outputs": [],
   "source": [
    "# create sample for filtered group A and group B\n",
    "## Filtered Group A\n",
    "sampleFilteredRevenueA = (pd.concat([filteredRevenueA['revenue'],\n",
    "                      pd.Series(0,\n",
    "                                index=np.arange(visitors[visitors['group']=='A']['visitors'].sum()\n",
    "                                                -len(filteredRevenueA['revenue'])\n",
    "                                               ),\n",
    "                                name='revenue'\n",
    "                               )\n",
    "                     ], axis=0\n",
    "                    )\n",
    "          )\n",
    "\n",
    "## Filtered Group B\n",
    "sampleFilteredRevenueB = (pd.concat([filteredRevenueB['revenue'],\n",
    "                      pd.Series(0,\n",
    "                                index=np.arange(visitors[visitors['group']=='B']['visitors'].sum()\n",
    "                                                -len(filteredRevenueB['revenue'])\n",
    "                                               ),\n",
    "                                name='revenue'\n",
    "                               )\n",
    "                     ], axis=0)\n",
    "          )"
   ]
  },
  {
   "cell_type": "code",
   "execution_count": null,
   "id": "958504e2-67eb-4e7c-b907-75c982ec3737",
   "metadata": {},
   "outputs": [],
   "source": [
    "# normality test\n",
    "shapiro_wilk_test(sampleFilteredRevenueA, sampleFilteredRevenueB, 0.05)"
   ]
  },
  {
   "cell_type": "code",
   "execution_count": null,
   "id": "fc74e0ff-9eda-4bd3-b7b4-73a5f97c372c",
   "metadata": {},
   "outputs": [],
   "source": [
    "# distribution test\n",
    "mannwhitneyu_test(sampleFilteredRevenueA, sampleFilteredRevenueB, 0.05)"
   ]
  },
  {
   "cell_type": "markdown",
   "id": "12709b9e-8932-47c5-92d2-ea80de633f28",
   "metadata": {},
   "source": [
    "**INSIGHT**<br>\n",
    "- From the raw dataset analysis, we found that the average order sizes of groups A and B are significantly different, where the average order size in group B is 44.7% higher than group A \n",
    "- The filtered dataset analysis has the same result as the raw dataset analysis.\n",
    "- However, the relative difference in average order size is lower. The average order size in group B is only 14.4% better than group A"
   ]
  },
  {
   "cell_type": "markdown",
   "id": "2f5b241b",
   "metadata": {},
   "source": [
    "<div class=\"alert alert-block alert-success\">\n",
    "<b>Reviewer's comment v1</b> <a class=\"tocSkip\"></a>\n",
    "\n",
    "Great Job Ica. <br> Your statistical significance test has been on point and very clear so far. <br> \n",
    "\n",
    "</div>\n"
   ]
  },
  {
   "cell_type": "markdown",
   "id": "4a3a1b45",
   "metadata": {},
   "source": [
    "<div class=\"alert alert-block alert-warning\">\n",
    "<b>Reviewer's comment v1</b> <a class=\"tocSkip\"></a>\n",
    "    \n",
    "Your conclusion might change where neccessary based on result from the implemented code change\n",
    "</div>"
   ]
  },
  {
   "cell_type": "markdown",
   "id": "b14ffe4c-ac7a-41e6-9fda-0270a48cfba2",
   "metadata": {},
   "source": [
    " "
   ]
  },
  {
   "cell_type": "markdown",
   "id": "587d0680-24bd-4206-9ab3-341c398ead09",
   "metadata": {},
   "source": [
    " "
   ]
  },
  {
   "cell_type": "markdown",
   "id": "0547e854-a28e-4525-8a7e-05243257a166",
   "metadata": {},
   "source": [
    " "
   ]
  },
  {
   "cell_type": "markdown",
   "id": "a37d1772-3a14-4e73-b1bc-ae8eaa1d94d6",
   "metadata": {},
   "source": [
    "## Decision Result\n",
    "\n",
    "After examining the cumulative changes in revenue, average order size, and conversion rate, we have determined that Group B (the treatment group) consistently outperforms Group A (the control group). This trend has been observed over the course of one month, during which both groups have stabilized noticeably.<br>\n",
    "\n",
    "To validate our findings, we have conducted a hypothesis test on both the raw dataset and the filtered dataset (without outliers) to determine if there is a significant difference in revenue and conversion rate between the two groups. Our results indicate that Group B is significantly higher than Group A across all metrics. Although outliers have caused some metrics for Group B to be overvalued, our findings demonstrate that the treatment group is still performing better overall.<br>\n",
    "\n",
    "Based on these results, we have decided to end the A/B testing and conclude that the treatment group (B) is better to the control group (A) in terms of generating higher revenue and conversion rates."
   ]
  },
  {
   "cell_type": "code",
   "execution_count": null,
   "id": "ced37aaa",
   "metadata": {},
   "outputs": [],
   "source": []
  }
 ],
 "metadata": {
  "kernelspec": {
   "display_name": "Python 3 (ipykernel)",
   "language": "python",
   "name": "python3"
  },
  "language_info": {
   "codemirror_mode": {
    "name": "ipython",
    "version": 3
   },
   "file_extension": ".py",
   "mimetype": "text/x-python",
   "name": "python",
   "nbconvert_exporter": "python",
   "pygments_lexer": "ipython3",
   "version": "3.10.9"
  },
  "toc": {
   "base_numbering": 1,
   "nav_menu": {},
   "number_sections": true,
   "sideBar": true,
   "skip_h1_title": true,
   "title_cell": "Table of Contents",
   "title_sidebar": "Contents",
   "toc_cell": false,
   "toc_position": {},
   "toc_section_display": true,
   "toc_window_display": false
  }
 },
 "nbformat": 4,
 "nbformat_minor": 5
}
